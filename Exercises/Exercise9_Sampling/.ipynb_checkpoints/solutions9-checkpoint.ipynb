{
 "cells": [
  {
   "cell_type": "code",
   "execution_count": 1,
   "metadata": {},
   "outputs": [],
   "source": [
    "import numpy as np\n",
    "import matplotlib.pyplot as plt\n",
    "import pandas as pd\n",
    "from scipy.stats import norm, gamma, multivariate_normal\n",
    "from sklearn.preprocessing import PolynomialFeatures\n",
    "from sklearn.model_selection import train_test_split"
   ]
  },
  {
   "cell_type": "code",
   "execution_count": 2,
   "metadata": {},
   "outputs": [],
   "source": [
    "# Load data\n",
    "filename = 'new_york_bicycles2.csv'\n",
    "\n",
    "df = pd.read_csv(filename)"
   ]
  },
  {
   "cell_type": "code",
   "execution_count": 3,
   "metadata": {},
   "outputs": [],
   "source": [
    "X = np.array(df['Brooklyn Bridge'])\n",
    "y = np.array(df['Manhattan Bridge'])"
   ]
  },
  {
   "cell_type": "code",
   "execution_count": 4,
   "metadata": {},
   "outputs": [
    {
     "data": {
      "image/png": "[encoded data removed]",
      "text/plain": [
       "<Figure size 432x288 with 1 Axes>"
      ]
     },
     "metadata": {},
     "output_type": "display_data"
    }
   ],
   "source": [
    "# Plot the data\n",
    "plt.figure()\n",
    "plt.scatter(X, y)\n",
    "plt.xlabel('Brooklyn Bridge')\n",
    "plt.ylabel('Manhattan Bridge')\n",
    "plt.show()"
   ]
  },
  {
   "cell_type": "code",
   "execution_count": 5,
   "metadata": {},
   "outputs": [],
   "source": [
    "def phi(x):\n",
    "    n_samples = len(x)\n",
    "    return np.matrix([np.ones(n_samples), x]).T"
   ]
  },
  {
   "cell_type": "code",
   "execution_count": 6,
   "metadata": {},
   "outputs": [],
   "source": [
    "test_size = 0.90\n",
    "\n",
    "x_train, x_val, y_train, y_val = train_test_split(phi(X), y, test_size=test_size, random_state=42)\n",
    "\n",
    "y_train = np.matrix(y_train).T\n",
    "y_val = np.matrix(y_val).T"
   ]
  },
  {
   "cell_type": "code",
   "execution_count": 7,
   "metadata": {},
   "outputs": [],
   "source": [
    "def log_prob(y, X, w, alpha, beta, a0, b0):\n",
    "    n = X.shape[0]\n",
    "    d = X.shape[1]\n",
    "    lp = gamma.logpdf(beta, a=a0, scale=1/b0) + multivariate_normal.logpdf(w, mean=np.zeros(d), cov=1/alpha*np.identity(d) )\n",
    "    for i in range(n):\n",
    "        lp += norm.logpdf(y[i], loc=np.dot(w.T, X[i, :].T), scale=np.sqrt(1/beta))\n",
    "    return lp[0, 0]"
   ]
  },
  {
   "cell_type": "code",
   "execution_count": null,
   "metadata": {},
   "outputs": [],
   "source": []
  },
  {
   "cell_type": "markdown",
   "metadata": {},
   "source": [
    "## Gibbs sampler"
   ]
  },
  {
   "cell_type": "code",
   "execution_count": 8,
   "metadata": {},
   "outputs": [],
   "source": [
    "# Gibbs sampler\n",
    "def sample_w(y, X, alpha, beta):\n",
    "    d = X.shape[1]\n",
    "    S = np.linalg.inv(alpha*np.identity(d) + beta*X.T*X)\n",
    "    m = np.array(S*(beta*X.T*y)).reshape(d,)\n",
    "    return multivariate_normal.rvs(mean=m, cov=S)\n",
    "\n",
    "def sample_beta(y, X, w, a0, b0):\n",
    "    n = X.shape[0]\n",
    "    a = a0 + n/2\n",
    "    sq_error = 0\n",
    "    for i in range(n):\n",
    "        sq_error += (y[i] - np.dot(w.T, X[i, :].T))**2\n",
    "    b = b0 + sq_error/2\n",
    "    return gamma.rvs(a=a, scale=1/b)\n"
   ]
  },
  {
   "cell_type": "code",
   "execution_count": null,
   "metadata": {},
   "outputs": [],
   "source": [
    "np.random.seed(1)\n",
    "\n",
    "# Hyperparameters\n",
    "alpha = 1\n",
    "a0 = 0.01\n",
    "b0 = 0.01\n",
    "\n",
    "# Initialization of the parameters\n",
    "beta_init = 1\n",
    "\n",
    "n_iters = 10000\n",
    "burnin = int(n_iters/2)\n",
    "\n",
    "beta = beta_init\n",
    "\n",
    "d = x_train.shape[1]\n",
    "\n",
    "w_samples_gibbs = np.zeros((n_iters, d))\n",
    "beta_samples_gibbs = np.zeros(n_iters)\n",
    "\n",
    "lps_gibbs = np.zeros(n_iters)\n",
    "\n",
    "for i in range(n_iters):\n",
    "        w = sample_w(y_train, x_train, alpha, beta)\n",
    "        beta = sample_beta(y_train, x_train, w, a0, b0)\n",
    "        \n",
    "        w_samples_gibbs[i, :] = w\n",
    "        beta_samples_gibbs[i] = beta\n",
    "        \n",
    "        lp = log_prob(y_train, x_train, w, alpha, beta, a0, b0)\n",
    "        lps_gibbs[i] = lp"
   ]
  },
  {
   "cell_type": "code",
   "execution_count": null,
   "metadata": {},
   "outputs": [],
   "source": [
    "# Plot log-posterior probabilities\n",
    "start = 1 # Ignore this many iterations from the start\n",
    "# Reason: Sometimes the initial values are so bad that the remaining ones form a line\n",
    "# So to get better visualisation of the remaining ones, we may sometimes use starts > 0\n",
    "\n",
    "plt.plot(range(start, n_iters), lps_gibbs[start:])\n",
    "plt.title('log-posterior')\n",
    "plt.show()"
   ]
  },
  {
   "cell_type": "code",
   "execution_count": null,
   "metadata": {},
   "outputs": [],
   "source": [
    "# Traceplots for weights\n",
    "plt.plot(range(start, n_iters), w_samples_gibbs[start:, 0], label='w0')\n",
    "plt.plot(range(start, n_iters), w_samples_gibbs[start:, 1], c='r', label='w1')\n",
    "plt.title('Traceplot for weights')\n",
    "plt.legend()\n",
    "plt.show()"
   ]
  },
  {
   "cell_type": "code",
   "execution_count": null,
   "metadata": {},
   "outputs": [],
   "source": [
    "# Traceplots for beta\n",
    "plt.plot(range(start, n_iters), beta_samples_gibbs[start:])\n",
    "plt.title('Traceplot for beta')\n",
    "plt.show()"
   ]
  },
  {
   "cell_type": "code",
   "execution_count": null,
   "metadata": {},
   "outputs": [],
   "source": [
    "# Plot the marginal distributions\n",
    "plt.hist(w_samples_gibbs[burnin:, 0])\n",
    "plt.title('Marginal for w0')\n",
    "plt.show()\n",
    "\n",
    "plt.hist(w_samples_gibbs[burnin:, 1])\n",
    "plt.title('Marginal for w1')\n",
    "plt.show()\n",
    "\n",
    "plt.hist(beta_samples_gibbs[burnin:])\n",
    "plt.title('Marginal for beta')\n",
    "plt.show()"
   ]
  },
  {
   "cell_type": "code",
   "execution_count": null,
   "metadata": {},
   "outputs": [],
   "source": [
    "# Plot some functions from posterior to see whether things make sense\n",
    "x = np.linspace(0, 5000, 51)\n",
    "x_t = phi(x)\n",
    "\n",
    "n_functions = 10\n",
    "thinning = 100\n",
    "\n",
    "for i in range(n_functions):\n",
    "    y_pred = np.dot(w_samples_gibbs[int(burnin + (i-1)*thinning), :], x_t.T)\n",
    "    plt.plot(x, y_pred.reshape(-1, 1), c='r')\n",
    "    \n",
    "plt.scatter(X, y)\n",
    "plt.show()\n",
    "        "
   ]
  },
  {
   "cell_type": "markdown",
   "metadata": {},
   "source": [
    "## Metropolis-Hastings"
   ]
  },
  {
   "cell_type": "code",
   "execution_count": 16,
   "metadata": {},
   "outputs": [],
   "source": [
    "def proposal(w, beta, sigma2=1, t=0.5):\n",
    "    d = w.shape[0]\n",
    "    w_new = w + multivariate_normal.rvs(cov=sigma2*np.identity(d))\n",
    "    \n",
    "    r = np.random.uniform(t, 1)\n",
    "    s = np.random.uniform()\n",
    "    if s < 0.5:\n",
    "        beta_new = r*beta\n",
    "    else:\n",
    "        beta_new = 1/r*beta\n",
    "    \n",
    "    return w_new, beta_new"
   ]
  },
  {
   "cell_type": "code",
   "execution_count": null,
   "metadata": {},
   "outputs": [],
   "source": [
    "np.random.seed()\n",
    "\n",
    "# Hyperparameters\n",
    "alpha = 1\n",
    "a0 = 0.01\n",
    "b0 = 0.01\n",
    "\n",
    "# Parameters for the proposal distribution\n",
    "sigma2 = 0.0005\n",
    "t = 0.005\n",
    "\n",
    "# Initialization of the parameters\n",
    "w_init = np.array([0,0])\n",
    "beta_init = 1\n",
    "\n",
    "n_iters = 5000\n",
    "burnin = int(n_iters/2)\n",
    "\n",
    "beta = beta_init\n",
    "w = w_init\n",
    "\n",
    "d = x_train.shape[1]\n",
    "\n",
    "w_samples_mh = np.zeros((n_iters, d))\n",
    "beta_samples_mh = np.zeros(n_iters)\n",
    "\n",
    "lps_mh = np.zeros(n_iters)\n",
    "\n",
    "lp = log_prob(y_train, x_train, w_init, alpha, beta_init, a0, b0)\n",
    "\n",
    "accept_count = 0\n",
    "\n",
    "for i in range(n_iters):\n",
    "    w_new, beta_new = proposal(w, beta, sigma2=sigma2, t=t)\n",
    "    lp_new = log_prob(y_train, x_train, w_new, alpha, beta_new, a0, b0)\n",
    "    A = np.min([1, np.exp(lp_new - lp)])\n",
    "    r = np.random.rand()\n",
    "    if r < A:\n",
    "        w = w_new\n",
    "        beta = beta_new\n",
    "        lp = lp_new\n",
    "        accept_count += 1\n",
    "    w_samples_mh[i, :] = w\n",
    "    beta_samples_mh[i] = beta\n",
    "    lps_mh[i] = lp\n",
    "    \n",
    "print('Acceptance ratio= %s' % (accept_count/n_iters))"
   ]
  },
  {
   "cell_type": "code",
   "execution_count": null,
   "metadata": {},
   "outputs": [],
   "source": [
    "# Plot log-posterior probabilities\n",
    "start = 100 # Ignore this many iterations from the start\n",
    "# Reason: Sometimes the initial values are so bad that the remaining ones form a line\n",
    "# So to get better visualisation of the remaining ones, we may sometimes use starts > 0\n",
    "\n",
    "plt.plot(range(start, n_iters), lps_mh[start:])\n",
    "plt.title('log-posterior')\n",
    "plt.show()"
   ]
  },
  {
   "cell_type": "code",
   "execution_count": null,
   "metadata": {},
   "outputs": [],
   "source": [
    "# Traceplots for weights\n",
    "plt.plot(range(start, n_iters), w_samples_mh[start:, 0], label='w0')\n",
    "plt.plot(range(start, n_iters), w_samples_mh[start:, 1], c='r', label='w1')\n",
    "plt.title('Traceplot for weights')\n",
    "plt.legend()\n",
    "plt.show()"
   ]
  },
  {
   "cell_type": "code",
   "execution_count": null,
   "metadata": {},
   "outputs": [],
   "source": [
    "# Traceplots for beta\n",
    "plt.plot(range(start, n_iters), beta_samples_mh[start:])\n",
    "plt.title('Traceplot for beta')\n",
    "plt.show()"
   ]
  },
  {
   "cell_type": "code",
   "execution_count": null,
   "metadata": {},
   "outputs": [],
   "source": [
    "# Plot the marginal distributions\n",
    "plt.hist(w_samples_mh[burnin:, 0])\n",
    "plt.title('Marginal for w0')\n",
    "plt.show()\n",
    "\n",
    "plt.hist(w_samples_mh[burnin:, 1])\n",
    "plt.title('Marginal for w1')\n",
    "plt.show()\n",
    "\n",
    "plt.hist(beta_samples_mh[burnin:])\n",
    "plt.title('Marginal for beta')\n",
    "plt.show()"
   ]
  },
  {
   "cell_type": "code",
   "execution_count": null,
   "metadata": {},
   "outputs": [],
   "source": [
    "# Plot some functions from posterior to see whether things make sense\n",
    "x = np.linspace(0, 5000, 51)\n",
    "x_t = phi(x)\n",
    "\n",
    "n_functions = 10\n",
    "thinning = 100\n",
    "\n",
    "for i in range(n_functions):\n",
    "    y_pred = np.dot(w_samples_mh[int(burnin + (i-1)*thinning), :], x_t.T)\n",
    "    plt.plot(x, y_pred.reshape(-1, 1), c='r')\n",
    "    \n",
    "plt.scatter(X, y)\n",
    "plt.show()\n",
    "        "
   ]
  },
  {
   "cell_type": "code",
   "execution_count": null,
   "metadata": {},
   "outputs": [],
   "source": []
  },
  {
   "cell_type": "code",
   "execution_count": null,
   "metadata": {},
   "outputs": [],
   "source": []
  }
 ],
 "metadata": {
  "kernelspec": {
   "display_name": "Python 3",
   "language": "python",
   "name": "python3"
  },
  "language_info": {
   "codemirror_mode": {
    "name": "ipython",
    "version": 3
   },
   "file_extension": ".py",
   "mimetype": "text/x-python",
   "name": "python",
   "nbconvert_exporter": "python",
   "pygments_lexer": "ipython3",
   "version": "3.6.9"
  }
 },
 "nbformat": 4,
 "nbformat_minor": 2
}
