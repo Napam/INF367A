{
 "cells": [
  {
   "cell_type": "code",
   "execution_count": 2,
   "metadata": {},
   "outputs": [],
   "source": [
    "import numpy as np\n",
    "import matplotlib.pyplot as plt\n",
    "import re, random\n",
    "from scipy.stats import beta, norm"
   ]
  },
  {
   "cell_type": "markdown",
   "metadata": {},
   "source": [
    "# Example"
   ]
  },
  {
   "cell_type": "markdown",
   "metadata": {},
   "source": [
    "We draw with replacement from a bucket of black and white balls.  The parameter $\\theta_b$ is the probability of drawing a black ball, and $\\theta_w$ is the probability of a white ball: $P(b|\\theta_b,\\theta_w) = \\theta_b$ and $P(w|\\theta_b,\\theta_w) = \\theta_w = 1 - \\theta_b$. $$$$\n",
    "\n",
    "We draw $n$ balls from the bucket. What is our estimate of $\\theta_b$? $$$$"
   ]
  },
  {
   "cell_type": "markdown",
   "metadata": {},
   "source": [
    " ## Independent and identically distributed (i.i.d)\n",
    "\n",
    "- If the data generating mechanism depends on $\\theta$ only (and not on what has been generated before), the sequence of data is called independent and identically distributed.\n",
    "- Then \n",
    "\\begin{eqnarray*}\n",
    " P(d_1, d_2, \\ldots, d_n|\\theta) = \\prod_{i=1}^{n} P(d_i|\\theta).\n",
    "\\end{eqnarray*}\n",
    "- And order of $d_i$ doesn't matter:\n",
    "\\begin{eqnarray*}\n",
    " P(b, w, b, b, w\\mid \\theta) & = & P(b, b, b, w, w |\\theta)\\\\\n",
    " & = & P(b|\\theta)  P(b|\\theta)  P(b|\\theta)  P(w|\\theta)  P(w|\\theta). \n",
    "\\end{eqnarray*}\n"
   ]
  },
  {
   "cell_type": "markdown",
   "metadata": {},
   "source": [
    "## Bernoulli model\n",
    "\n",
    "- A model for i.i.d. binary outcomes: (heads, tails), (black, white), (0, 1), (true, false),...\n",
    "- One parameter: $\\theta\\in [0, 1]$. For example, $ P(d = true\\mid \\theta) = \\theta $, $ P(d = false\\mid \\theta) = 1-\\theta $.$$$$\n",
    "- Note that the probabilities of $d$ being true are **determined by** $\\theta$. Parameters are not probabilities.$$$$\n",
    "- As the parameter $\\theta$ determines a unique model, we call also the model as $\\theta$.$$$$ \n",
    "- Easy to show that $E[d] =\\theta$ and $\\textrm{var}[d] = \\theta (1-\\theta)$.$$$$\n",
    "- Black and white ball bucket as a Bernoulli model:\n",
    " - $\\theta$ is the proportion of the black balls in a bucket, $P(b\\mid \\theta) = \\theta$.$$$$\n",
    " - **Likelihood:** $P(D\\mid\\theta) = \\theta^{N_b} (1 - \\theta)^{N_w}$, where $N_b$ and $N_w$ are the numbers of black and white balls in the data $D$, respectively.$$$$\n",
    " - Note that $P(D\\mid\\theta)$ depends on the data $D$ through $N_b$ and $N_w$ only (= sufficient statistics).$$$$"
   ]
  },
  {
   "cell_type": "code",
   "execution_count": null,
   "metadata": {},
   "outputs": [],
   "source": [
    "def likelihood(D, theta):\n",
    "    n_w = len(re.findall('w', D))\n",
    "    n_b = len(re.findall('b', D))\n",
    "    return theta**n_b*(1-theta)**n_w"
   ]
  },
  {
   "cell_type": "code",
   "execution_count": null,
   "metadata": {},
   "outputs": [],
   "source": [
    "# Observe data\n",
    "D = 'wbbbwbbbw'\n",
    "n_w = len(re.findall('w', D))\n",
    "n_b = len(re.findall('b', D))\n",
    "\n",
    "# Plot the likelihood as a function of theta\n",
    "t = np.linspace(0, 1, 100)\n",
    "y = likelihood(D, t)\n",
    "\n",
    "plt.plot(t, y)\n",
    "plt.title('Likelihood')\n",
    "plt.ylabel('P(D|theta)')\n",
    "plt.xlabel('$theta$')\n",
    "plt.show()"
   ]
  },
  {
   "cell_type": "markdown",
   "metadata": {},
   "source": [
    "Note: Likelihood is a function of $\\theta$. Thus, the area under the curve is not necessarily $1$$$$$"
   ]
  },
  {
   "cell_type": "markdown",
   "metadata": {},
   "source": [
    "## Maximum likelihood parameters for the Bernoulli model\n",
    " \n",
    "- Let us find Maximum likelihood (ML) parameters for the Bernoulli model for the data with $N_b$ black balls and $N_w$ white ones.$$$$\n",
    "- Likelihood: $P(D\\mid\\theta) = \\theta^{N_b}(1-\\theta)^{N_w}$.\n",
    "- Let us check when $P'(D\\mid\\theta) = 0$, $\\theta \\in ]0, 1[$:\n",
    "  \\begin{eqnarray*}\n",
    "  P'(D\\mid\\theta) & = & N_b \\theta^{N_b - 1}(1 - \\theta)^{N_w} + \\theta^{N_b} N_{w} (1 - \\theta)^{N_w - 1}(-1)\\\\\n",
    "   & = & \\theta^{N_b -1}(1-\\theta)^{N_w - 1}[N_b(1 - \\theta) -\\theta N_w]\\\\\n",
    "   & = & \\theta^{N_b -1}(1-\\theta)^{N_w - 1}[N_b - (N_b + N_w)\\theta] = 0\\\\\n",
    "   & \\Leftrightarrow & N_b - (N_b + N_w)\\theta = 0\\\\\n",
    "   & \\Leftrightarrow & \\theta = \\frac{N_b}{N_b + N_w}.\n",
    "  \\end{eqnarray*}"
   ]
  },
  {
   "cell_type": "code",
   "execution_count": null,
   "metadata": {},
   "outputs": [],
   "source": [
    "# Problem with maximum likelihood\n",
    "D_prime = 'ww'\n",
    "n_w_prime = len(re.findall('w', D_prime))\n",
    "n_b_prime = len(re.findall('b', D_prime))\n",
    "\n",
    "theta_ml = n_b_prime/(n_b_prime + n_w_prime)\n",
    "\n",
    "print('theta_ml = %s' % theta_ml)"
   ]
  },
  {
   "cell_type": "markdown",
   "metadata": {},
   "source": [
    "# Bayesian approach"
   ]
  },
  {
   "cell_type": "markdown",
   "metadata": {},
   "source": [
    "## A possible prior\n",
    "\n",
    "We can discretise the range of $\\theta_b$ and consider"
   ]
  },
  {
   "cell_type": "code",
   "execution_count": null,
   "metadata": {},
   "outputs": [],
   "source": [
    "theta_values = np.linspace(0, 1, 11)\n",
    "prior_p = [0.05, 0.1, 0.1, 0.1, 0.1, 0.1, 0.1, 0.1, 0.1, 0.1, 0.05]\n",
    "#prior_p = [0, 0.02, 0.03, 0.05, 0.1, 0.15, 0.2, 0.25, 0.15, 0.05, 0]\n",
    "\n",
    "assert(len(theta_values) == len(prior_p))\n",
    "assert(np.sum(prior_p) == 1)"
   ]
  },
  {
   "cell_type": "code",
   "execution_count": null,
   "metadata": {},
   "outputs": [],
   "source": [
    "plt.bar(x=theta_values, height=prior_p, width=0.05)\n",
    "plt.title('Prior')\n",
    "plt.xlabel('theta')\n",
    "plt.ylabel('p')\n",
    "plt.show()"
   ]
  },
  {
   "cell_type": "code",
   "execution_count": null,
   "metadata": {},
   "outputs": [],
   "source": [
    "# Compute posterior\n",
    "posterior_unnormalized = prior_p*likelihood(D, theta_values) # Joint probability\n",
    "evidence = np.sum(posterior_unnormalized)\n",
    "posterior = posterior_unnormalized/evidence"
   ]
  },
  {
   "cell_type": "code",
   "execution_count": null,
   "metadata": {},
   "outputs": [],
   "source": [
    "# Plot the posterior\n",
    "plt.bar(x=theta_values, height=posterior, width=0.05)\n",
    "plt.title('Posterior')\n",
    "plt.xlabel('theta')\n",
    "plt.ylabel('p')\n",
    "plt.show()"
   ]
  },
  {
   "cell_type": "markdown",
   "metadata": {},
   "source": [
    "## Beta distribution\n",
    "\n",
    "- The density is in form $P(\\theta) = c \\theta^{\\alpha - 1}(1 -\\theta)^{\\beta - 1}$, where the normalization constant is \n",
    "  \\begin{eqnarray*}\n",
    "   c & = & \\frac{1}{\\int_{0}^{1} \\theta^{\\alpha - 1}(1 -\\theta)^{\\beta - 1} \\mathrm{d} \\theta}\\\\\n",
    "   & = & \\frac{\\Gamma(\\alpha + \\beta)}{\\Gamma(\\alpha)\\Gamma(\\beta)},\n",
    "  \\end{eqnarray*}\n",
    "  where $\\Gamma$ is the gamma function, a continuous version of the factorial: $\\Gamma(n) = (n -1)!$.\n",
    "- Mean = $\\frac{\\alpha}{\\alpha + \\beta}$, mode = $\\frac{\\alpha - 1}{\\alpha + \\beta- 2}$ (for $\\alpha>1, \\beta>1$)$$$$"
   ]
  },
  {
   "cell_type": "code",
   "execution_count": null,
   "metadata": {},
   "outputs": [],
   "source": [
    "# Visualise the beta distribution with different parameter values\n",
    "aa = [0.5, 1, 1, 2, 3, 10, 1.5, 7]\n",
    "bb = [0.5, 1, 2, 2, 5 ,3, 12, 1]\n",
    "x = np.linspace(0, 1, 101)\n",
    "\n",
    "for i in range(len(aa)):\n",
    "    a = aa[i]\n",
    "    b = bb[i]\n",
    "    dist = beta(a, b)\n",
    "    y = dist.pdf(x)\n",
    "    plt.plot(x,y)\n",
    "    plt.title('Beta(%s, %s)' % (a, b))\n",
    "    plt.xlabel('theta')\n",
    "    plt.show()"
   ]
  },
  {
   "cell_type": "code",
   "execution_count": null,
   "metadata": {},
   "outputs": [],
   "source": [
    "# Let's use a beta prior\n",
    "a_prior = 7\n",
    "b_prior = 1\n",
    "\n",
    "prior2 = beta(a_prior, b_prior)\n",
    "\n",
    "x = np.linspace(0, 1, 101)\n",
    "y = prior2.pdf(x)\n",
    "\n",
    "plt.plot(x, y)\n",
    "plt.title('Prior: Beta(%s, %s)' % (a_prior, b_prior))\n",
    "plt.xlabel('theta')\n",
    "plt.show()"
   ]
  },
  {
   "cell_type": "markdown",
   "metadata": {},
   "source": [
    "## Posterior with beta prior\n",
    "\n",
    "- The forms of the likelihood and the prior seem comfortable\n",
    " - $P(D\\mid\\theta) = \\theta^{N_b}(1 -\\theta)^{N_w}$\n",
    " - We define the prior $P(\\theta) = c \\theta^{\\alpha - 1}(1 -\\theta)^{\\beta - 1}$, where the normalization constant $c$ takes care that $\\int P(\\theta)\\mathrm{d}\\theta = 1$.$$$$\n",
    " - Then $P(D\\mid\\theta) P(\\theta) = c \\theta^{N_b + \\alpha - 1}(1 -\\theta)^{N_w + \\beta - 1}$$$$$\n",
    "- Thus updating from prior to posterior is easy: just use the formula for the prior, and update exponents $\\alpha - 1$ and $\\beta - 1$ (conjugate prior).$$$$\n",
    "- $\\alpha$ and $\\beta$ are parameters of the prior distribution, i.e., hyperparameters.$$$$\n",
    "- \\begin{eqnarray*}\n",
    " P(\\theta\\mid D, \\alpha, \\beta) = \\frac{\\Gamma(\\alpha + N_b + \\beta + N_w)}{\\Gamma(\\alpha + N_b)\\Gamma(\\beta + N_w)} \\theta^{\\alpha + N_b -1} (1 - \\theta)^{\\beta + N_w - 1}\n",
    "\\end{eqnarray*}\n",
    "- Thus, a posteriori, $\\theta_b$ is distributed by $\\mathrm{Beta}(\\alpha + N_b$, $\\beta + N_w)$ $$$$"
   ]
  },
  {
   "cell_type": "code",
   "execution_count": null,
   "metadata": {},
   "outputs": [],
   "source": [
    "# Compute and plot the posterior\n",
    "show_point_estimates = False\n",
    "\n",
    "a_posterior = a_prior + n_b\n",
    "b_posterior = b_prior + n_w\n",
    "\n",
    "posterior2 = beta(a_posterior, b_posterior)\n",
    "\n",
    "x = np.linspace(0, 1, 101)\n",
    "y = posterior2.pdf(x)\n",
    "\n",
    "plt.plot(x, y)\n",
    "plt.title('Posterior: Beta(%s, %s)' % (a_posterior, b_posterior))\n",
    "plt.xlabel('theta')\n",
    "\n",
    "if show_point_estimates:\n",
    "    plt.plot([theta_map, theta_map], [0, posterior2.pdf(theta_map)], c='r', label='MAP')\n",
    "    plt.plot([theta_ml, theta_ml], [0, posterior2.pdf(theta_ml)], c='m', label='ML')\n",
    "    plt.plot([theta_mean, theta_mean], [0, posterior2.pdf(theta_mean)], c='c', label='Mean')\n",
    "\n",
    "    plt.legend()\n",
    "plt.show()"
   ]
  },
  {
   "cell_type": "markdown",
   "metadata": {},
   "source": [
    "## Bayesian updating\n",
    "\n",
    "- Start with a prior with hyperparameters $\\alpha$ and $\\beta$. Now $\\theta \\sim \\mathrm{Beta}(\\alpha, \\beta)$.$$$$\n",
    "- Observe data with $N_w$ white balls and $N_b$ black ones. A posteriori   $\\theta \\sim \\mathrm{Beta}(N_b + \\alpha, N_w + \\beta)$.$$$$\n",
    "- We observe another data, now with $N_{w}' $ white balls and $N_b'$ black ones. We use the posteriori distribution  obtained earlier as our prior. Now the updated posteriori is  $\\theta \\sim \\mathrm{Beta}(N_b + N_b' + \\alpha, N_w + N_w' + \\beta)$.$$$$\n",
    "- This is equivalent to combining the two small datasets into a big one.\n",
    "- An advantage of sequential Bayesian updating is that you can learn online and you don't need to store the data."
   ]
  },
  {
   "cell_type": "code",
   "execution_count": null,
   "metadata": {},
   "outputs": [],
   "source": [
    "D1 = 'wbbwwww'\n",
    "D2 = 'bbwwbbw'\n",
    "D = D1 + D2\n",
    "\n",
    "n_w1 = len(re.findall('w', D1))\n",
    "n_b1 = len(re.findall('b', D1))\n",
    "n_w2 = len(re.findall('w', D2))\n",
    "n_b2 = len(re.findall('b', D2))\n",
    "n_w = len(re.findall('w', D))\n",
    "n_b = len(re.findall('b', D))\n",
    "\n",
    "\n",
    "x = np.linspace(0, 1, 101)\n",
    "\n",
    "f_prior = beta.pdf(x, a=a_prior, b=b_prior)\n",
    "a_posterior1 = a_prior+n_w1\n",
    "b_posterior1 = b_prior+n_b1\n",
    "f1 = beta.pdf(x, a=a_posterior1, b=b_posterior1)\n",
    "a_posterior2 = a_posterior1 + n_w2\n",
    "b_posterior2 = b_posterior1 + n_b2\n",
    "f2 = beta.pdf(x, a=a_posterior2, b=b_posterior2)\n",
    "a_posterior = a_prior + n_w\n",
    "b_posterior = b_prior + n_b\n",
    "f = beta.pdf(x, a=a_posterior, b=b_posterior)\n",
    "\n",
    "plt.plot(x, f_prior, label='Prior')\n",
    "plt.plot(x, f1, label='Posterior after observing D1')\n",
    "plt.plot(x, f2, label='Posterior after observing D1 and D2')\n",
    "plt.plot(x, f, label='Posterior after observing D')\n",
    "plt.legend()\n",
    "plt.show()"
   ]
  },
  {
   "cell_type": "markdown",
   "metadata": {},
   "source": [
    "## Effect of the prior"
   ]
  },
  {
   "cell_type": "code",
   "execution_count": null,
   "metadata": {},
   "outputs": [],
   "source": [
    "theta_true = 0.7\n",
    "ns = [0, 1, 10, 100, 1000, 10000]\n",
    "\n",
    "x = np.linspace(0, 1, 101)\n",
    "\n",
    "# Priors\n",
    "a_priors = [1, 1, 10]\n",
    "b_priors = [1, 5, 3]\n",
    "\n",
    "for n in ns:\n",
    "    D = ''.join(random.choices(['b', 'w'], weights=[theta_true, 1-theta_true], k=n))\n",
    "    n_w = len(re.findall('w', D))\n",
    "    n_b = len(re.findall('b', D))\n",
    "    for i in range(len(a_priors)):\n",
    "        f = beta.pdf(x, a=a_priors[i] + n_b, b=b_priors[i] + n_w)\n",
    "        plt.plot(x, f, label='Prior: Beta(%s, %s)' % (a_priors[i], b_priors[i]))\n",
    "    if n > 0:\n",
    "        plt.title('Posteriors after %s observations' % n)\n",
    "    else:\n",
    "        plt.title('Priors')\n",
    "    plt.legend()\n",
    "    plt.show()"
   ]
  },
  {
   "cell_type": "markdown",
   "metadata": {},
   "source": [
    "## Predictive distribution\n",
    "\n",
    "\\begin{eqnarray*}\n",
    "  P(b\\mid D, \\alpha, \\beta) & = & \\int_{0}^{1} P(b\\mid \\theta, D, \\alpha, \\beta) P(\\theta\\mid D, \\alpha, \\beta)\\mathrm{d} \\theta\\\\\n",
    "  & = & \\int_{0}^{1} P(b\\mid \\theta) P(\\theta\\mid D, \\alpha, \\beta)\\mathrm{d} \\theta\\\\\n",
    "  & = & \\int_{0}^{1} \\theta P(\\theta\\mid D, \\alpha, \\beta)\\mathrm{d} \\theta\\\\\n",
    "  & = & E_P (\\theta)\\\\\n",
    "  & = & \\frac{\\alpha + N_b}{\\alpha + N_b + \\beta + N_w}.\n",
    " \\end{eqnarray*} \n",
    "- Sounds rational.\n",
    "- Notice how the hyperparameters $\\alpha$ and $\\beta$ act like extra counts (pseudocounts).$$$$\n",
    "- Predictive probabilities change less radically when $\\alpha + \\beta$ is large\n",
    "- Interpretation: before formulation the prior, one has experience of previous observations - thus with $\\alpha + \\beta$ one can indicate confidence measured in observations\n",
    "- Called \"equivalent sample size\""
   ]
  },
  {
   "cell_type": "code",
   "execution_count": null,
   "metadata": {},
   "outputs": [],
   "source": [
    "pred = a_posterior/(a_posterior + b_posterior)\n",
    "print('Prediction: probability of observing a black ball = %s' % pred)"
   ]
  },
  {
   "cell_type": "markdown",
   "metadata": {},
   "source": [
    "As evidence accumulates, our beliefs converge"
   ]
  },
  {
   "cell_type": "markdown",
   "metadata": {},
   "source": [
    "## Summarising posterior"
   ]
  },
  {
   "cell_type": "code",
   "execution_count": null,
   "metadata": {},
   "outputs": [],
   "source": [
    "def posteriorSummaries(a_prior, b_prior, n_b, n_w):\n",
    "    theta_map = (a_prior + n_b - 1)/(a_prior + b_prior + n_b + n_w - 2)\n",
    "    theta_mean = (a_prior + n_b)/(a_prior + b_prior + n_b + n_w)\n",
    "    theta_ml = n_b/(n_b + n_w)\n",
    "    return theta_map, theta_mean, theta_ml"
   ]
  },
  {
   "cell_type": "code",
   "execution_count": null,
   "metadata": {},
   "outputs": [],
   "source": []
  },
  {
   "cell_type": "code",
   "execution_count": 11,
   "metadata": {},
   "outputs": [
    {
     "data": {
      "image/png": "[encoded data removed]",
      "text/plain": [
       "<Figure size 432x288 with 1 Axes>"
      ]
     },
     "metadata": {},
     "output_type": "display_data"
    },
    {
     "name": "stdout",
     "output_type": "stream",
     "text": [
      "Mean: -2.7\n"
     ]
    }
   ],
   "source": [
    "def f(x):\n",
    "    return pi1*dist1.pdf(x) + pi2*dist2.pdf(x) + pi3*dist3.pdf(x)\n",
    "\n",
    "mu1 = 0\n",
    "sigma1 = np.sqrt(1)\n",
    "dist1 = norm(mu1, sigma1)\n",
    "\n",
    "mu2 = 5\n",
    "sigma2 = np.sqrt(0.005)\n",
    "dist2 = norm(mu2, sigma2)\n",
    "\n",
    "mu3 = -8\n",
    "sigma3 = np.sqrt(1)\n",
    "dist3 = norm(mu3, sigma3)\n",
    "\n",
    "pi1 = 0.5\n",
    "pi2 = 0.1\n",
    "pi3 = 1 - pi1 - pi2\n",
    "\n",
    "x = np.linspace(-12, 8, 200)\n",
    "y = f(x)\n",
    "\n",
    "plt.plot(x, y)\n",
    "\n",
    "map_ind = np.argmax(y)\n",
    "plt.plot([x[map_ind], x[map_ind]], [0, y[map_ind]], c='m', label='MAP')\n",
    "\n",
    "m = pi1*mu1 + pi2*mu2 + pi3*mu3\n",
    "plt.plot([m, m], [0, f(m)], c='r', label='Mean')\n",
    "plt.legend()\n",
    "plt.show()\n",
    "\n",
    "print('Mean: %s' % m)\n",
    "\n"
   ]
  },
  {
   "cell_type": "code",
   "execution_count": null,
   "metadata": {},
   "outputs": [],
   "source": []
  },
  {
   "cell_type": "code",
   "execution_count": null,
   "metadata": {},
   "outputs": [],
   "source": []
  },
  {
   "cell_type": "code",
   "execution_count": null,
   "metadata": {},
   "outputs": [],
   "source": []
  },
  {
   "cell_type": "code",
   "execution_count": null,
   "metadata": {},
   "outputs": [],
   "source": []
  }
 ],
 "metadata": {
  "kernelspec": {
   "display_name": "Python 3",
   "language": "python",
   "name": "python3"
  },
  "language_info": {
   "codemirror_mode": {
    "name": "ipython",
    "version": 3
   },
   "file_extension": ".py",
   "mimetype": "text/x-python",
   "name": "python",
   "nbconvert_exporter": "python",
   "pygments_lexer": "ipython3",
   "version": "3.6.8"
  }
 },
 "nbformat": 4,
 "nbformat_minor": 2
}
