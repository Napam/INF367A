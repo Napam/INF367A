{
 "cells": [
  {
   "cell_type": "code",
   "execution_count": 38,
   "metadata": {},
   "outputs": [
    {
     "name": "stdout",
     "output_type": "stream",
     "text": [
      "[[5 1 4 2 1 2]\n",
      " [5 0 4 2 2 3]\n",
      " [2 5 2 3 6 1]\n",
      " [4 0 4 2 2 2]\n",
      " [5 0 4 2 2 3]\n",
      " [1 4 2 3 5 1]\n",
      " [0 1 0 1 3 0]\n",
      " [0 1 0 1 1 0]\n",
      " [0 0 0 2 2 1]\n",
      " [2 4 1 4 5 2]\n",
      " [1 1 0 1 2 0]\n",
      " [2 6 1 4 5 2]]\n",
      "[[2.02 4.99 2.   3.07 5.98 0.92]]\n"
     ]
    }
   ],
   "source": [
    "import numpy as np\n",
    "seed=42069\n",
    "np.random.seed(seed)\n",
    "from sklearn.decomposition import PCA, NMF\n",
    "from sklearn.datasets import make_blobs\n",
    "import sys\n",
    "from scipy import sparse\n",
    "from matplotlib import pyplot as plt\n",
    "\n",
    "np.set_printoptions(precision=2, suppress=True)\n",
    "\n",
    "A, y = make_blobs(n_samples=12, n_features=6)\n",
    "A = abs(A / A.max()) * 6\n",
    "A = A.astype(int)\n",
    "B = np.array([[2,5,2,3,6,1]])\n",
    "\n",
    "P = NMF(5)\n",
    "X = P.fit_transform(A)\n",
    "\n",
    "print(A)\n",
    "\n",
    "XB = P.transform(B)\n",
    "print(P.inverse_transform(XB))"
   ]
  }
 ],
 "metadata": {
  "kernelspec": {
   "display_name": "Python 3",
   "language": "python",
   "name": "python3"
  },
  "language_info": {
   "codemirror_mode": {
    "name": "ipython",
    "version": 3
   },
   "file_extension": ".py",
   "mimetype": "text/x-python",
   "name": "python",
   "nbconvert_exporter": "python",
   "pygments_lexer": "ipython3",
   "version": "3.6.9"
  }
 },
 "nbformat": 4,
 "nbformat_minor": 4
}
