{
 "cells": [
  {
   "cell_type": "code",
   "execution_count": 1,
   "metadata": {},
   "outputs": [],
   "source": [
    "import numpy as np\n",
    "seed = 42069\n",
    "np.random.seed(seed)\n",
    "import pandas as pd\n",
    "from matplotlib import pyplot as plt\n",
    "import arviz\n",
    "import pystan\n",
    "from scipy import sparse, stats\n",
    "from typing import Iterable, Union, Callable\n",
    "from sklearn.model_selection import train_test_split, ParameterGrid\n",
    "import altair as alt\n",
    "from time import time, sleep\n",
    "from tqdm import tqdm\n",
    "\n",
    "# Own files\n",
    "import utils \n",
    "import StanClasses"
   ]
  },
  {
   "cell_type": "code",
   "execution_count": 2,
   "metadata": {},
   "outputs": [],
   "source": [
    "# Define constants\n",
    "DATA_DIR = 'ml-100k'"
   ]
  },
  {
   "cell_type": "code",
   "execution_count": 3,
   "metadata": {},
   "outputs": [],
   "source": [
    "df, _, _ = utils.get_ml100k_data(DATA_DIR, subsample_top_users=50, subsample_top_items=20)\n",
    "df[['user_id', 'item_id']] -= 1\n",
    "\n",
    "# We are not going to use timestamp, therefore drop it\n",
    "df.drop('timestamp', axis='columns', inplace=True)"
   ]
  },
  {
   "cell_type": "code",
   "execution_count": 4,
   "metadata": {},
   "outputs": [],
   "source": [
    "def column_relabler(df: pd.DataFrame, column: str):\n",
    "    uniques = pd.value_counts(df[column], sort=False).index.values\n",
    "    n_uniques = len(uniques)\n",
    "\n",
    "    num2id = {num_:id_ for num_, id_ in zip(range(0, n_uniques), uniques)}\n",
    "    id2num = {id_:num_ for num_, id_ in zip(range(0, n_uniques), uniques)}\n",
    "    \n",
    "    df[column] = df[column].map(id2num)\n",
    "    return id2num, num2id\n",
    "\n",
    "df_num = df.copy()\n",
    "user2num, num2user = column_relabler(df_num, 'user_id')\n",
    "item2num, num2item = column_relabler(df_num, 'item_id')\n",
    "\n",
    "# p, q represents shape of the matrix as if it was dense\n",
    "p, q = len(user2num), len(item2num)"
   ]
  },
  {
   "cell_type": "code",
   "execution_count": 5,
   "metadata": {},
   "outputs": [],
   "source": [
    "df_train, df_val = train_test_split(df_num, test_size=0.1, random_state=seed)"
   ]
  },
  {
   "cell_type": "code",
   "execution_count": 6,
   "metadata": {},
   "outputs": [
    {
     "name": "stdout",
     "output_type": "stream",
     "text": [
      "test\n"
     ]
    }
   ],
   "source": [
    "print('test')"
   ]
  },
  {
   "cell_type": "code",
   "execution_count": 7,
   "metadata": {},
   "outputs": [
    {
     "name": "stderr",
     "output_type": "stream",
     "text": [
      "\r",
      "Fitting models:   0%|          | 0/15 [00:00<?, ?model/s]"
     ]
    },
    {
     "name": "stdout",
     "output_type": "stream",
     "text": [
      "Using cached StanModel\n",
      "Using cached StanModel\n",
      "Using cached StanModel\n",
      "Using cached StanModel\n"
     ]
    },
    {
     "name": "stderr",
     "output_type": "stream",
     "text": [
      "WARNING:pystan:Rhat above 1.1 or below 0.9 indicates that the chains very likely have not mixed\n",
      "/usr/lib/python3.6/multiprocessing/reduction.py:51: UserWarning: Pickling fit objects is an experimental feature!\n",
      "The relevant StanModel instance must be pickled along with this fit object.\n",
      "When unpickling the StanModel must be unpickled first.\n",
      "  cls(buf, protocol).dump(obj)\n"
     ]
    },
    {
     "name": "stdout",
     "output_type": "stream",
     "text": [
      "Using cached StanModel\n"
     ]
    },
    {
     "name": "stderr",
     "output_type": "stream",
     "text": [
      "Fitting models:   7%|▋         | 1/15 [00:04<01:05,  4.68s/model]WARNING:pystan:Rhat above 1.1 or below 0.9 indicates that the chains very likely have not mixed\n",
      "/usr/lib/python3.6/multiprocessing/reduction.py:51: UserWarning: Pickling fit objects is an experimental feature!\n",
      "The relevant StanModel instance must be pickled along with this fit object.\n",
      "When unpickling the StanModel must be unpickled first.\n",
      "  cls(buf, protocol).dump(obj)\n"
     ]
    },
    {
     "name": "stdout",
     "output_type": "stream",
     "text": [
      "Using cached StanModel\n"
     ]
    },
    {
     "name": "stderr",
     "output_type": "stream",
     "text": [
      "\r",
      "Fitting models:  13%|█▎        | 2/15 [00:42<03:10, 14.63s/model]"
     ]
    },
    {
     "name": "stdout",
     "output_type": "stream",
     "text": [
      "Using cached StanModel\n"
     ]
    },
    {
     "name": "stderr",
     "output_type": "stream",
     "text": [
      "Fitting models:  20%|██        | 3/15 [00:47<02:19, 11.60s/model]WARNING:pystan:Rhat above 1.1 or below 0.9 indicates that the chains very likely have not mixed\n",
      "/usr/lib/python3.6/multiprocessing/reduction.py:51: UserWarning: Pickling fit objects is an experimental feature!\n",
      "The relevant StanModel instance must be pickled along with this fit object.\n",
      "When unpickling the StanModel must be unpickled first.\n",
      "  cls(buf, protocol).dump(obj)\n"
     ]
    },
    {
     "name": "stdout",
     "output_type": "stream",
     "text": [
      "Using cached StanModel\n"
     ]
    },
    {
     "name": "stderr",
     "output_type": "stream",
     "text": [
      "\r",
      "Fitting models:  27%|██▋       | 4/15 [00:57<02:04, 11.32s/model]"
     ]
    },
    {
     "name": "stdout",
     "output_type": "stream",
     "text": [
      "Using cached StanModel\n"
     ]
    },
    {
     "name": "stderr",
     "output_type": "stream",
     "text": [
      "Fitting models:  33%|███▎      | 5/15 [01:01<01:31,  9.16s/model]WARNING:pystan:Rhat above 1.1 or below 0.9 indicates that the chains very likely have not mixed\n",
      "/usr/lib/python3.6/multiprocessing/reduction.py:51: UserWarning: Pickling fit objects is an experimental feature!\n",
      "The relevant StanModel instance must be pickled along with this fit object.\n",
      "When unpickling the StanModel must be unpickled first.\n",
      "  cls(buf, protocol).dump(obj)\n"
     ]
    },
    {
     "name": "stdout",
     "output_type": "stream",
     "text": [
      "Using cached StanModel\n"
     ]
    },
    {
     "name": "stderr",
     "output_type": "stream",
     "text": [
      "\r",
      "Fitting models:  40%|████      | 6/15 [01:13<01:29,  9.99s/model]"
     ]
    },
    {
     "name": "stdout",
     "output_type": "stream",
     "text": [
      "Using cached StanModel\n"
     ]
    },
    {
     "name": "stderr",
     "output_type": "stream",
     "text": [
      "Fitting models:  47%|████▋     | 7/15 [01:15<01:00,  7.57s/model]WARNING:pystan:Rhat above 1.1 or below 0.9 indicates that the chains very likely have not mixed\n"
     ]
    },
    {
     "name": "stdout",
     "output_type": "stream",
     "text": [
      "Using cached StanModel\n"
     ]
    },
    {
     "name": "stderr",
     "output_type": "stream",
     "text": [
      "Fitting models:  53%|█████▎    | 8/15 [01:22<00:51,  7.36s/model]WARNING:pystan:Rhat above 1.1 or below 0.9 indicates that the chains very likely have not mixed\n"
     ]
    },
    {
     "name": "stdout",
     "output_type": "stream",
     "text": [
      "Using cached StanModel\n"
     ]
    },
    {
     "name": "stderr",
     "output_type": "stream",
     "text": [
      "Fitting models:  60%|██████    | 9/15 [01:26<00:37,  6.32s/model]WARNING:pystan:Rhat above 1.1 or below 0.9 indicates that the chains very likely have not mixed\n"
     ]
    },
    {
     "name": "stdout",
     "output_type": "stream",
     "text": [
      "Using cached StanModel\n"
     ]
    },
    {
     "name": "stderr",
     "output_type": "stream",
     "text": [
      "Fitting models:  67%|██████▋   | 10/15 [01:42<00:46,  9.28s/model]WARNING:pystan:Rhat above 1.1 or below 0.9 indicates that the chains very likely have not mixed\n"
     ]
    },
    {
     "name": "stdout",
     "output_type": "stream",
     "text": [
      "Using cached StanModel\n"
     ]
    },
    {
     "name": "stderr",
     "output_type": "stream",
     "text": [
      "Fitting models:  80%|████████  | 12/15 [01:57<00:25,  8.41s/model]WARNING:pystan:Rhat above 1.1 or below 0.9 indicates that the chains very likely have not mixed\n",
      "Fitting models:  87%|████████▋ | 13/15 [02:00<00:13,  6.92s/model]WARNING:pystan:Rhat above 1.1 or below 0.9 indicates that the chains very likely have not mixed\n",
      "Fitting models:  93%|█████████▎| 14/15 [02:17<00:09,  9.85s/model]WARNING:pystan:Rhat above 1.1 or below 0.9 indicates that the chains very likely have not mixed\n",
      "Fitting models: 100%|██████████| 15/15 [02:22<00:00,  9.52s/model]\n"
     ]
    }
   ],
   "source": [
    "models = [\n",
    "    StanClasses.NormalFactorizer,\n",
    "    StanClasses.NonNegativeFactorizer,\n",
    "    StanClasses.ARD_Factorizer\n",
    "]\n",
    "\n",
    "init_kwargs = {'n_components':[1,2,3,4,5]}\n",
    "static_kwargs = {'chains':1, 'iter':1000, 'control':{'max_treedepth':15}}\n",
    "\n",
    "t0 = time()\n",
    "hist = utils.fit_and_evaluate_models(\n",
    "    models=models,\n",
    "    X_train=df_train,\n",
    "    X_val=df_val,\n",
    "    candidate_kwargs=init_kwargs,\n",
    "    static_kwargs=static_kwargs\n",
    ")\n",
    "evaltime = time()-t0"
   ]
  },
  {
   "cell_type": "code",
   "execution_count": 8,
   "metadata": {},
   "outputs": [],
   "source": [
    "df_hist = pd.DataFrame(hist)"
   ]
  },
  {
   "cell_type": "code",
   "execution_count": 9,
   "metadata": {},
   "outputs": [
    {
     "data": {
      "text/html": [
       "<div>\n",
       "<style scoped>\n",
       "    .dataframe tbody tr th:only-of-type {\n",
       "        vertical-align: middle;\n",
       "    }\n",
       "\n",
       "    .dataframe tbody tr th {\n",
       "        vertical-align: top;\n",
       "    }\n",
       "\n",
       "    .dataframe thead th {\n",
       "        text-align: right;\n",
       "    }\n",
       "</style>\n",
       "<table border=\"1\" class=\"dataframe\">\n",
       "  <thead>\n",
       "    <tr style=\"text-align: right;\">\n",
       "      <th></th>\n",
       "      <th>model</th>\n",
       "      <th>params</th>\n",
       "      <th>fit_time</th>\n",
       "      <th>train_mae</th>\n",
       "      <th>val_mae</th>\n",
       "      <th>k</th>\n",
       "    </tr>\n",
       "  </thead>\n",
       "  <tbody>\n",
       "    <tr>\n",
       "      <th>0</th>\n",
       "      <td>NormalFactorizer</td>\n",
       "      <td>{'n_components': 1}</td>\n",
       "      <td>4.349305</td>\n",
       "      <td>0.594971</td>\n",
       "      <td>0.707540</td>\n",
       "      <td>1</td>\n",
       "    </tr>\n",
       "    <tr>\n",
       "      <th>1</th>\n",
       "      <td>NormalFactorizer</td>\n",
       "      <td>{'n_components': 2}</td>\n",
       "      <td>42.148864</td>\n",
       "      <td>0.561117</td>\n",
       "      <td>0.731330</td>\n",
       "      <td>2</td>\n",
       "    </tr>\n",
       "    <tr>\n",
       "      <th>2</th>\n",
       "      <td>NonNegativeFactorizer</td>\n",
       "      <td>{'n_components': 1}</td>\n",
       "      <td>4.434446</td>\n",
       "      <td>0.594616</td>\n",
       "      <td>0.709152</td>\n",
       "      <td>1</td>\n",
       "    </tr>\n",
       "    <tr>\n",
       "      <th>3</th>\n",
       "      <td>NormalFactorizer</td>\n",
       "      <td>{'n_components': 3}</td>\n",
       "      <td>57.376720</td>\n",
       "      <td>0.524337</td>\n",
       "      <td>0.745389</td>\n",
       "      <td>3</td>\n",
       "    </tr>\n",
       "    <tr>\n",
       "      <th>4</th>\n",
       "      <td>NonNegativeFactorizer</td>\n",
       "      <td>{'n_components': 2}</td>\n",
       "      <td>14.613461</td>\n",
       "      <td>0.562867</td>\n",
       "      <td>0.743365</td>\n",
       "      <td>2</td>\n",
       "    </tr>\n",
       "    <tr>\n",
       "      <th>5</th>\n",
       "      <td>NormalFactorizer</td>\n",
       "      <td>{'n_components': 4}</td>\n",
       "      <td>73.408981</td>\n",
       "      <td>0.504713</td>\n",
       "      <td>0.795345</td>\n",
       "      <td>4</td>\n",
       "    </tr>\n",
       "    <tr>\n",
       "      <th>6</th>\n",
       "      <td>NonNegativeFactorizer</td>\n",
       "      <td>{'n_components': 3}</td>\n",
       "      <td>17.827789</td>\n",
       "      <td>0.528855</td>\n",
       "      <td>0.748551</td>\n",
       "      <td>3</td>\n",
       "    </tr>\n",
       "    <tr>\n",
       "      <th>7</th>\n",
       "      <td>ARD_Factorizer</td>\n",
       "      <td>{'n_components': 1}</td>\n",
       "      <td>6.763555</td>\n",
       "      <td>0.595341</td>\n",
       "      <td>0.707628</td>\n",
       "      <td>1</td>\n",
       "    </tr>\n",
       "    <tr>\n",
       "      <th>8</th>\n",
       "      <td>NonNegativeFactorizer</td>\n",
       "      <td>{'n_components': 4}</td>\n",
       "      <td>24.370525</td>\n",
       "      <td>0.511550</td>\n",
       "      <td>0.781266</td>\n",
       "      <td>4</td>\n",
       "    </tr>\n",
       "    <tr>\n",
       "      <th>9</th>\n",
       "      <td>NormalFactorizer</td>\n",
       "      <td>{'n_components': 5}</td>\n",
       "      <td>97.735129</td>\n",
       "      <td>0.486690</td>\n",
       "      <td>0.810384</td>\n",
       "      <td>5</td>\n",
       "    </tr>\n",
       "    <tr>\n",
       "      <th>10</th>\n",
       "      <td>NonNegativeFactorizer</td>\n",
       "      <td>{'n_components': 5}</td>\n",
       "      <td>35.234457</td>\n",
       "      <td>0.502775</td>\n",
       "      <td>0.783810</td>\n",
       "      <td>5</td>\n",
       "    </tr>\n",
       "    <tr>\n",
       "      <th>11</th>\n",
       "      <td>ARD_Factorizer</td>\n",
       "      <td>{'n_components': 2}</td>\n",
       "      <td>34.784270</td>\n",
       "      <td>0.563698</td>\n",
       "      <td>0.724609</td>\n",
       "      <td>2</td>\n",
       "    </tr>\n",
       "    <tr>\n",
       "      <th>12</th>\n",
       "      <td>ARD_Factorizer</td>\n",
       "      <td>{'n_components': 3}</td>\n",
       "      <td>34.504919</td>\n",
       "      <td>0.531398</td>\n",
       "      <td>0.725559</td>\n",
       "      <td>3</td>\n",
       "    </tr>\n",
       "    <tr>\n",
       "      <th>13</th>\n",
       "      <td>ARD_Factorizer</td>\n",
       "      <td>{'n_components': 4}</td>\n",
       "      <td>35.005784</td>\n",
       "      <td>0.523318</td>\n",
       "      <td>0.735387</td>\n",
       "      <td>4</td>\n",
       "    </tr>\n",
       "    <tr>\n",
       "      <th>14</th>\n",
       "      <td>ARD_Factorizer</td>\n",
       "      <td>{'n_components': 5}</td>\n",
       "      <td>33.575886</td>\n",
       "      <td>0.518658</td>\n",
       "      <td>0.741210</td>\n",
       "      <td>5</td>\n",
       "    </tr>\n",
       "  </tbody>\n",
       "</table>\n",
       "</div>"
      ],
      "text/plain": [
       "                    model               params   fit_time  train_mae  \\\n",
       "0        NormalFactorizer  {'n_components': 1}   4.349305   0.594971   \n",
       "1        NormalFactorizer  {'n_components': 2}  42.148864   0.561117   \n",
       "2   NonNegativeFactorizer  {'n_components': 1}   4.434446   0.594616   \n",
       "3        NormalFactorizer  {'n_components': 3}  57.376720   0.524337   \n",
       "4   NonNegativeFactorizer  {'n_components': 2}  14.613461   0.562867   \n",
       "5        NormalFactorizer  {'n_components': 4}  73.408981   0.504713   \n",
       "6   NonNegativeFactorizer  {'n_components': 3}  17.827789   0.528855   \n",
       "7          ARD_Factorizer  {'n_components': 1}   6.763555   0.595341   \n",
       "8   NonNegativeFactorizer  {'n_components': 4}  24.370525   0.511550   \n",
       "9        NormalFactorizer  {'n_components': 5}  97.735129   0.486690   \n",
       "10  NonNegativeFactorizer  {'n_components': 5}  35.234457   0.502775   \n",
       "11         ARD_Factorizer  {'n_components': 2}  34.784270   0.563698   \n",
       "12         ARD_Factorizer  {'n_components': 3}  34.504919   0.531398   \n",
       "13         ARD_Factorizer  {'n_components': 4}  35.005784   0.523318   \n",
       "14         ARD_Factorizer  {'n_components': 5}  33.575886   0.518658   \n",
       "\n",
       "     val_mae  k  \n",
       "0   0.707540  1  \n",
       "1   0.731330  2  \n",
       "2   0.709152  1  \n",
       "3   0.745389  3  \n",
       "4   0.743365  2  \n",
       "5   0.795345  4  \n",
       "6   0.748551  3  \n",
       "7   0.707628  1  \n",
       "8   0.781266  4  \n",
       "9   0.810384  5  \n",
       "10  0.783810  5  \n",
       "11  0.724609  2  \n",
       "12  0.725559  3  \n",
       "13  0.735387  4  \n",
       "14  0.741210  5  "
      ]
     },
     "execution_count": 9,
     "metadata": {},
     "output_type": "execute_result"
    }
   ],
   "source": [
    "df_latex = df_hist.copy()\n",
    "df_latex['k'] = df_latex['model'].apply(lambda x: x.n_components)\n",
    "df_latex['model'] = df_latex['model'].apply(lambda x: type(x).__name__)\n",
    "df_latex"
   ]
  },
  {
   "cell_type": "code",
   "execution_count": 17,
   "metadata": {},
   "outputs": [
    {
     "data": {
      "text/html": [
       "<div>\n",
       "<style scoped>\n",
       "    .dataframe tbody tr th:only-of-type {\n",
       "        vertical-align: middle;\n",
       "    }\n",
       "\n",
       "    .dataframe tbody tr th {\n",
       "        vertical-align: top;\n",
       "    }\n",
       "\n",
       "    .dataframe thead th {\n",
       "        text-align: right;\n",
       "    }\n",
       "</style>\n",
       "<table border=\"1\" class=\"dataframe\">\n",
       "  <thead>\n",
       "    <tr style=\"text-align: right;\">\n",
       "      <th></th>\n",
       "      <th>model</th>\n",
       "      <th>params</th>\n",
       "      <th>fit_time</th>\n",
       "      <th>train_mae</th>\n",
       "      <th>val_mae</th>\n",
       "      <th>k</th>\n",
       "    </tr>\n",
       "  </thead>\n",
       "  <tbody>\n",
       "    <tr>\n",
       "      <th>7</th>\n",
       "      <td>ARD_Factorizer</td>\n",
       "      <td>{'n_components': 1}</td>\n",
       "      <td>6.763555</td>\n",
       "      <td>0.595341</td>\n",
       "      <td>0.707628</td>\n",
       "      <td>1</td>\n",
       "    </tr>\n",
       "    <tr>\n",
       "      <th>11</th>\n",
       "      <td>ARD_Factorizer</td>\n",
       "      <td>{'n_components': 2}</td>\n",
       "      <td>34.784270</td>\n",
       "      <td>0.563698</td>\n",
       "      <td>0.724609</td>\n",
       "      <td>2</td>\n",
       "    </tr>\n",
       "    <tr>\n",
       "      <th>12</th>\n",
       "      <td>ARD_Factorizer</td>\n",
       "      <td>{'n_components': 3}</td>\n",
       "      <td>34.504919</td>\n",
       "      <td>0.531398</td>\n",
       "      <td>0.725559</td>\n",
       "      <td>3</td>\n",
       "    </tr>\n",
       "    <tr>\n",
       "      <th>13</th>\n",
       "      <td>ARD_Factorizer</td>\n",
       "      <td>{'n_components': 4}</td>\n",
       "      <td>35.005784</td>\n",
       "      <td>0.523318</td>\n",
       "      <td>0.735387</td>\n",
       "      <td>4</td>\n",
       "    </tr>\n",
       "    <tr>\n",
       "      <th>14</th>\n",
       "      <td>ARD_Factorizer</td>\n",
       "      <td>{'n_components': 5}</td>\n",
       "      <td>33.575886</td>\n",
       "      <td>0.518658</td>\n",
       "      <td>0.741210</td>\n",
       "      <td>5</td>\n",
       "    </tr>\n",
       "    <tr>\n",
       "      <th>2</th>\n",
       "      <td>NonNegativeFactorizer</td>\n",
       "      <td>{'n_components': 1}</td>\n",
       "      <td>4.434446</td>\n",
       "      <td>0.594616</td>\n",
       "      <td>0.709152</td>\n",
       "      <td>1</td>\n",
       "    </tr>\n",
       "    <tr>\n",
       "      <th>4</th>\n",
       "      <td>NonNegativeFactorizer</td>\n",
       "      <td>{'n_components': 2}</td>\n",
       "      <td>14.613461</td>\n",
       "      <td>0.562867</td>\n",
       "      <td>0.743365</td>\n",
       "      <td>2</td>\n",
       "    </tr>\n",
       "    <tr>\n",
       "      <th>6</th>\n",
       "      <td>NonNegativeFactorizer</td>\n",
       "      <td>{'n_components': 3}</td>\n",
       "      <td>17.827789</td>\n",
       "      <td>0.528855</td>\n",
       "      <td>0.748551</td>\n",
       "      <td>3</td>\n",
       "    </tr>\n",
       "    <tr>\n",
       "      <th>8</th>\n",
       "      <td>NonNegativeFactorizer</td>\n",
       "      <td>{'n_components': 4}</td>\n",
       "      <td>24.370525</td>\n",
       "      <td>0.511550</td>\n",
       "      <td>0.781266</td>\n",
       "      <td>4</td>\n",
       "    </tr>\n",
       "    <tr>\n",
       "      <th>10</th>\n",
       "      <td>NonNegativeFactorizer</td>\n",
       "      <td>{'n_components': 5}</td>\n",
       "      <td>35.234457</td>\n",
       "      <td>0.502775</td>\n",
       "      <td>0.783810</td>\n",
       "      <td>5</td>\n",
       "    </tr>\n",
       "    <tr>\n",
       "      <th>0</th>\n",
       "      <td>NormalFactorizer</td>\n",
       "      <td>{'n_components': 1}</td>\n",
       "      <td>4.349305</td>\n",
       "      <td>0.594971</td>\n",
       "      <td>0.707540</td>\n",
       "      <td>1</td>\n",
       "    </tr>\n",
       "    <tr>\n",
       "      <th>1</th>\n",
       "      <td>NormalFactorizer</td>\n",
       "      <td>{'n_components': 2}</td>\n",
       "      <td>42.148864</td>\n",
       "      <td>0.561117</td>\n",
       "      <td>0.731330</td>\n",
       "      <td>2</td>\n",
       "    </tr>\n",
       "    <tr>\n",
       "      <th>3</th>\n",
       "      <td>NormalFactorizer</td>\n",
       "      <td>{'n_components': 3}</td>\n",
       "      <td>57.376720</td>\n",
       "      <td>0.524337</td>\n",
       "      <td>0.745389</td>\n",
       "      <td>3</td>\n",
       "    </tr>\n",
       "    <tr>\n",
       "      <th>5</th>\n",
       "      <td>NormalFactorizer</td>\n",
       "      <td>{'n_components': 4}</td>\n",
       "      <td>73.408981</td>\n",
       "      <td>0.504713</td>\n",
       "      <td>0.795345</td>\n",
       "      <td>4</td>\n",
       "    </tr>\n",
       "    <tr>\n",
       "      <th>9</th>\n",
       "      <td>NormalFactorizer</td>\n",
       "      <td>{'n_components': 5}</td>\n",
       "      <td>97.735129</td>\n",
       "      <td>0.486690</td>\n",
       "      <td>0.810384</td>\n",
       "      <td>5</td>\n",
       "    </tr>\n",
       "  </tbody>\n",
       "</table>\n",
       "</div>"
      ],
      "text/plain": [
       "                    model               params   fit_time  train_mae  \\\n",
       "7          ARD_Factorizer  {'n_components': 1}   6.763555   0.595341   \n",
       "11         ARD_Factorizer  {'n_components': 2}  34.784270   0.563698   \n",
       "12         ARD_Factorizer  {'n_components': 3}  34.504919   0.531398   \n",
       "13         ARD_Factorizer  {'n_components': 4}  35.005784   0.523318   \n",
       "14         ARD_Factorizer  {'n_components': 5}  33.575886   0.518658   \n",
       "2   NonNegativeFactorizer  {'n_components': 1}   4.434446   0.594616   \n",
       "4   NonNegativeFactorizer  {'n_components': 2}  14.613461   0.562867   \n",
       "6   NonNegativeFactorizer  {'n_components': 3}  17.827789   0.528855   \n",
       "8   NonNegativeFactorizer  {'n_components': 4}  24.370525   0.511550   \n",
       "10  NonNegativeFactorizer  {'n_components': 5}  35.234457   0.502775   \n",
       "0        NormalFactorizer  {'n_components': 1}   4.349305   0.594971   \n",
       "1        NormalFactorizer  {'n_components': 2}  42.148864   0.561117   \n",
       "3        NormalFactorizer  {'n_components': 3}  57.376720   0.524337   \n",
       "5        NormalFactorizer  {'n_components': 4}  73.408981   0.504713   \n",
       "9        NormalFactorizer  {'n_components': 5}  97.735129   0.486690   \n",
       "\n",
       "     val_mae  k  \n",
       "7   0.707628  1  \n",
       "11  0.724609  2  \n",
       "12  0.725559  3  \n",
       "13  0.735387  4  \n",
       "14  0.741210  5  \n",
       "2   0.709152  1  \n",
       "4   0.743365  2  \n",
       "6   0.748551  3  \n",
       "8   0.781266  4  \n",
       "10  0.783810  5  \n",
       "0   0.707540  1  \n",
       "1   0.731330  2  \n",
       "3   0.745389  3  \n",
       "5   0.795345  4  \n",
       "9   0.810384  5  "
      ]
     },
     "execution_count": 17,
     "metadata": {},
     "output_type": "execute_result"
    }
   ],
   "source": [
    "df_latex.sort_values('model')"
   ]
  },
  {
   "cell_type": "code",
   "execution_count": 10,
   "metadata": {},
   "outputs": [],
   "source": [
    "best_model = df_hist['model'].values[0]\n",
    "best_params = df_hist['params'].values[0].copy()\n",
    "best_params.update(static_kwargs)"
   ]
  },
  {
   "cell_type": "code",
   "execution_count": 11,
   "metadata": {},
   "outputs": [],
   "source": [
    "df_full, _, _ = utils.get_ml100k_data(DATA_DIR, subsample_top_users=60, subsample_top_items=30)\n",
    "df_full[['user_id', 'item_id']] -= 1\n",
    "\n",
    "user2num, num2user = column_relabler(df_full, 'user_id')\n",
    "item2num, num2item = column_relabler(df_full, 'item_id')\n",
    "\n",
    "# We are not going to use timestamp, therefore drop it\n",
    "df_full.drop('timestamp', axis='columns', inplace=True)\n",
    "\n",
    "df_full_train, df_full_val = train_test_split(df_full, test_size=0.05, random_state=seed)"
   ]
  },
  {
   "cell_type": "code",
   "execution_count": 12,
   "metadata": {},
   "outputs": [
    {
     "name": "stdout",
     "output_type": "stream",
     "text": [
      "(1639, 3)\n",
      "(1557, 3)\n",
      "(82, 3)\n"
     ]
    }
   ],
   "source": [
    "print(df_full.shape)\n",
    "print(df_full_train.shape)\n",
    "print(df_full_val.shape)"
   ]
  },
  {
   "cell_type": "code",
   "execution_count": 13,
   "metadata": {},
   "outputs": [
    {
     "name": "stdout",
     "output_type": "stream",
     "text": [
      "Using cached StanModel\n"
     ]
    }
   ],
   "source": [
    "final_model_object, fit_time, train_mae, val_mae =\\\n",
    "    utils.fit_and_evaluate((type(best_model), best_params, df_full_train, df_full_val))"
   ]
  }
 ],
 "metadata": {
  "kernelspec": {
   "display_name": "Python 3",
   "language": "python",
   "name": "python3"
  },
  "language_info": {
   "codemirror_mode": {
    "name": "ipython",
    "version": 3
   },
   "file_extension": ".py",
   "mimetype": "text/x-python",
   "name": "python",
   "nbconvert_exporter": "python",
   "pygments_lexer": "ipython3",
   "version": "3.6.9"
  }
 },
 "nbformat": 4,
 "nbformat_minor": 4
}
