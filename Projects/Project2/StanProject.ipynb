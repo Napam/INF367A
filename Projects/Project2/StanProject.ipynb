{
 "cells": [
  {
   "cell_type": "code",
   "execution_count": 1,
   "metadata": {},
   "outputs": [],
   "source": [
    "import numpy as np\n",
    "seed = 42069\n",
    "np.random.seed(seed)\n",
    "import pandas as pd\n",
    "from matplotlib import pyplot as plt\n",
    "import arviz\n",
    "import pystan\n",
    "from scipy import sparse, stats\n",
    "from typing import Iterable, Union, Callable\n",
    "from sklearn.model_selection import train_test_split, ParameterGrid\n",
    "import altair as alt\n",
    "from time import time, sleep\n",
    "from tqdm import tqdm\n",
    "\n",
    "# Own files\n",
    "import utils \n",
    "import StanClasses"
   ]
  },
  {
   "cell_type": "markdown",
   "metadata": {},
   "source": [
    "# Load and preprocess data"
   ]
  },
  {
   "cell_type": "markdown",
   "metadata": {},
   "source": [
    "The data we have is essentially a matrix, where the each row correspond to a person, and each column correspond to a movie. However, the matrix is very sparse and thus data is stored in sparse format (i.e. specified with indices and the corresponding values). "
   ]
  },
  {
   "cell_type": "code",
   "execution_count": 2,
   "metadata": {},
   "outputs": [],
   "source": [
    "# Define constants\n",
    "DATA_DIR = 'ml-100k'"
   ]
  },
  {
   "cell_type": "code",
   "execution_count": 3,
   "metadata": {},
   "outputs": [],
   "source": [
    "df, _, _ = utils.get_ml100k_data(DATA_DIR, subsample_top_users=200, subsample_top_items=30)\n",
    "df[['user_id', 'item_id']] -= 1\n",
    "\n",
    "# We are not going to use timestamp, therefore drop it\n",
    "df.drop('timestamp', axis='columns', inplace=True)"
   ]
  },
  {
   "cell_type": "markdown",
   "metadata": {},
   "source": [
    "The user ids and item (movie) ids are essentially integer ranges, starting from and 1 to the number of users and items respectively. We don't have the all the unique ids when subsampling users and movies. It becomes problematic ... TODO: Write this"
   ]
  },
  {
   "cell_type": "code",
   "execution_count": 4,
   "metadata": {},
   "outputs": [],
   "source": [
    "def column_relabler(df: pd.DataFrame, column: str):\n",
    "    uniques = pd.value_counts(df[column], sort=False).index.values\n",
    "    n_uniques = len(uniques)\n",
    "\n",
    "    # Count from 1 to conform with Stan (Stan counts indexes arrays starting at 1)\n",
    "    num2id = {num_:id_ for num_, id_ in zip(range(0, n_uniques), uniques)}\n",
    "    id2num = {id_:num_ for num_, id_ in zip(range(0, n_uniques), uniques)}\n",
    "    \n",
    "    df[column] = df[column].map(id2num)\n",
    "    return id2num, num2id\n",
    "\n",
    "df_num = df.copy()\n",
    "user2num, num2user = column_relabler(df_num, 'user_id')\n",
    "item2num, num2item = column_relabler(df_num, 'item_id')\n",
    "\n",
    "# p, q represents shape of the matrix as if it was dense\n",
    "p, q = len(user2num), len(item2num)"
   ]
  },
  {
   "cell_type": "code",
   "execution_count": 5,
   "metadata": {},
   "outputs": [],
   "source": [
    "df_train, df_valtest = train_test_split(df_num, test_size=0.1)\n",
    "df_val, df_test = train_test_split(df_valtest, test_size=0.5)\n",
    "del df_valtest"
   ]
  },
  {
   "cell_type": "code",
   "execution_count": 6,
   "metadata": {},
   "outputs": [
    {
     "name": "stdout",
     "output_type": "stream",
     "text": [
      "Dataframe dimensions:\n",
      "\n",
      "    df_train: (4337, 3)\n",
      "    df_val: (241, 3)\n",
      "    df_test: (241, 3)\n"
     ]
    }
   ],
   "source": [
    "print(f'''Dataframe dimensions:\n",
    "\n",
    "    df_train: {df_train.shape}\n",
    "    df_val: {df_val.shape}\n",
    "    df_test: {df_test.shape}''')"
   ]
  },
  {
   "cell_type": "markdown",
   "metadata": {},
   "source": [
    "# Matrix Factorization \n",
    "Want to factorize the dense matrix $X_{n\\times m} \\approx U_{n\\times k}V_{k\\times m}$, where the subscripts denotes matrix shapes. The $k$ dimension denotes the user specified embedding dimension. We use different probabilistic models for the components. \n"
   ]
  },
  {
   "cell_type": "markdown",
   "metadata": {},
   "source": [
    "## Model 1: Simple\n",
    "Ultra simple, ultra minimal\n",
    "\n",
    "$$ U_{ij} \\sim N(\\mu_u, \\sigma_u) $$\n",
    "$$ V_{ij} \\sim N(\\mu_v, \\sigma_v) $$\n",
    "$$ X_{ij}\\sim N((UV_{ij}), \\sigma_x)$$\n",
    "\n",
    "User defined variables:\n",
    "$\\mu_u, \\sigma_u, \\mu_v, \\sigma_v, \\sigma_x$"
   ]
  },
  {
   "cell_type": "markdown",
   "metadata": {},
   "source": [
    "## Model 2: Normal\n",
    "Not as simple as the simple model above, this is the analogous to the \"regular\" way when doing regression.\n",
    "\n",
    "$$ U_{ij} \\sim N(\\mu_u, \\sigma_u) $$\n",
    "$$ V_{ij} \\sim N(\\mu_v, \\sigma_v) $$\n",
    "$$ X_{ij}\\sim N((UV_{ij}), \\beta)$$\n",
    "$$ \\beta \\sim Gamma(a_\\beta, b_\\beta) $$\n",
    "\n",
    "User defined variables:\n",
    "$\\mu_u, \\sigma_u, \\mu_v, \\sigma_v, a_\\beta, b_\\beta$"
   ]
  },
  {
   "cell_type": "markdown",
   "metadata": {},
   "source": [
    "## Model 3: Non-negative Matrix Factorization\n",
    "\n",
    "$$ U_{ij}\\sim Gamma(a_u, b_u) $$\n",
    "$$ V_{ij}\\sim Gamma(a_v, b_v) $$\n",
    "$$ X_{ij}\\sim Normal(UV_{ij}, \\beta)$$\n",
    "$$ \\beta \\sim Gamma(a_\\beta, b_\\beta) $$\n",
    "\n",
    "User defined variables:\n",
    "$a_u, b_u, a_v, b_v, a_\\beta, b_\\beta$"
   ]
  },
  {
   "cell_type": "markdown",
   "metadata": {},
   "source": [
    "## Model 4: ARD\n",
    "\n",
    "$$ U_{ij} \\sim N(\\mu_u, \\alpha_j) $$\n",
    "$$ V_{ij} \\sim N(\\mu_v, \\alpha_j) $$\n",
    "$$ X_{ij}\\sim N((UV)_{ij}, \\beta)$$\n",
    "$$ \\beta \\sim Gamma(a_\\beta, b_\\beta) $$\n",
    "\n",
    "$$ \\alpha_{ij} \\sim Gamma(a_\\alpha, b_\\alpha) $$\n",
    "\n",
    "User defined variables:\n",
    "$\\mu_u, \\mu_v, a_\\alpha, b_\\alpha, a_\\beta, b_\\beta$"
   ]
  },
  {
   "cell_type": "markdown",
   "metadata": {},
   "source": [
    "2K samples, 1 chain, 5 thin\n",
    "\n",
    "X_hat:            2min 30s, 2min 35, 2min 23s\n",
    "\n",
    "Array of vectors: 4min 21s, 4min 19s\n",
    "\n",
    "Matrix, no X_hat: 6min 14s, 6min 5s"
   ]
  },
  {
   "cell_type": "code",
   "execution_count": 7,
   "metadata": {
    "scrolled": true
   },
   "outputs": [
    {
     "name": "stderr",
     "output_type": "stream",
     "text": [
      "\r",
      "Fitting models:   0%|          | 0/12 [00:00<?, ?model/s]"
     ]
    },
    {
     "name": "stdout",
     "output_type": "stream",
     "text": [
      "Using cached StanModel\n"
     ]
    },
    {
     "name": "stderr",
     "output_type": "stream",
     "text": [
      "WARNING:pystan:Maximum (flat) parameter count (1000) exceeded: skipping diagnostic tests for n_eff and Rhat.\n",
      "To run all diagnostics call pystan.check_hmc_diagnostics(fit)\n",
      "Fitting models:   8%|▊         | 1/12 [11:25<2:05:44, 685.87s/model]"
     ]
    },
    {
     "name": "stdout",
     "output_type": "stream",
     "text": [
      "Using cached StanModel\n"
     ]
    },
    {
     "name": "stderr",
     "output_type": "stream",
     "text": [
      "WARNING:pystan:Maximum (flat) parameter count (1000) exceeded: skipping diagnostic tests for n_eff and Rhat.\n",
      "To run all diagnostics call pystan.check_hmc_diagnostics(fit)\n",
      "Fitting models:  17%|█▋        | 2/12 [27:10<2:07:15, 763.55s/model]"
     ]
    },
    {
     "name": "stdout",
     "output_type": "stream",
     "text": [
      "Using cached StanModel\n"
     ]
    },
    {
     "name": "stderr",
     "output_type": "stream",
     "text": [
      "WARNING:pystan:Maximum (flat) parameter count (1000) exceeded: skipping diagnostic tests for n_eff and Rhat.\n",
      "To run all diagnostics call pystan.check_hmc_diagnostics(fit)\n",
      "Fitting models:  25%|██▌       | 3/12 [46:52<2:13:22, 889.15s/model]"
     ]
    },
    {
     "name": "stdout",
     "output_type": "stream",
     "text": [
      "Using cached StanModel\n"
     ]
    },
    {
     "name": "stderr",
     "output_type": "stream",
     "text": [
      "WARNING:pystan:Maximum (flat) parameter count (1000) exceeded: skipping diagnostic tests for n_eff and Rhat.\n",
      "To run all diagnostics call pystan.check_hmc_diagnostics(fit)\n",
      "Fitting models:  33%|███▎      | 4/12 [1:10:45<2:20:16, 1052.06s/model]WARNING:pystan:Maximum (flat) parameter count (1000) exceeded: skipping diagnostic tests for n_eff and Rhat.\n",
      "To run all diagnostics call pystan.check_hmc_diagnostics(fit)\n",
      "Fitting models:  42%|████▏     | 5/12 [1:24:04<1:53:54, 976.31s/model] "
     ]
    },
    {
     "name": "stdout",
     "output_type": "stream",
     "text": [
      "Using cached StanModel\n",
      "Using cached StanModel\n"
     ]
    },
    {
     "name": "stderr",
     "output_type": "stream",
     "text": [
      "WARNING:pystan:Maximum (flat) parameter count (1000) exceeded: skipping diagnostic tests for n_eff and Rhat.\n",
      "To run all diagnostics call pystan.check_hmc_diagnostics(fit)\n",
      "Fitting models:  50%|█████     | 6/12 [1:47:22<1:50:16, 1102.72s/model]"
     ]
    },
    {
     "name": "stdout",
     "output_type": "stream",
     "text": [
      "Using cached StanModel\n"
     ]
    },
    {
     "name": "stderr",
     "output_type": "stream",
     "text": [
      "WARNING:pystan:Maximum (flat) parameter count (1000) exceeded: skipping diagnostic tests for n_eff and Rhat.\n",
      "To run all diagnostics call pystan.check_hmc_diagnostics(fit)\n",
      "Fitting models:  58%|█████▊    | 7/12 [2:14:22<1:44:49, 1258.00s/model]"
     ]
    },
    {
     "name": "stdout",
     "output_type": "stream",
     "text": [
      "Using cached StanModel\n"
     ]
    },
    {
     "name": "stderr",
     "output_type": "stream",
     "text": [
      "WARNING:pystan:Maximum (flat) parameter count (1000) exceeded: skipping diagnostic tests for n_eff and Rhat.\n",
      "To run all diagnostics call pystan.check_hmc_diagnostics(fit)\n",
      "Fitting models:  67%|██████▋   | 8/12 [3:53:56<2:58:10, 2672.67s/model]WARNING:pystan:Maximum (flat) parameter count (1000) exceeded: skipping diagnostic tests for n_eff and Rhat.\n",
      "To run all diagnostics call pystan.check_hmc_diagnostics(fit)\n",
      "Fitting models:  75%|███████▌  | 9/12 [4:21:51<1:58:40, 2373.40s/model]"
     ]
    },
    {
     "name": "stdout",
     "output_type": "stream",
     "text": [
      "Using cached StanModel\n",
      "Using cached StanModel\n"
     ]
    },
    {
     "name": "stderr",
     "output_type": "stream",
     "text": [
      "WARNING:pystan:Maximum (flat) parameter count (1000) exceeded: skipping diagnostic tests for n_eff and Rhat.\n",
      "To run all diagnostics call pystan.check_hmc_diagnostics(fit)\n",
      "Fitting models:  83%|████████▎ | 10/12 [5:51:55<1:49:25, 3282.63s/model]"
     ]
    },
    {
     "name": "stdout",
     "output_type": "stream",
     "text": [
      "Using cached StanModel\n"
     ]
    },
    {
     "name": "stderr",
     "output_type": "stream",
     "text": [
      "WARNING:pystan:Maximum (flat) parameter count (1000) exceeded: skipping diagnostic tests for n_eff and Rhat.\n",
      "To run all diagnostics call pystan.check_hmc_diagnostics(fit)\n",
      "Fitting models:  92%|█████████▏| 11/12 [7:11:49<1:02:15, 3735.93s/model]"
     ]
    },
    {
     "name": "stdout",
     "output_type": "stream",
     "text": [
      "Using cached StanModel\n"
     ]
    },
    {
     "name": "stderr",
     "output_type": "stream",
     "text": [
      "WARNING:pystan:Maximum (flat) parameter count (1000) exceeded: skipping diagnostic tests for n_eff and Rhat.\n",
      "To run all diagnostics call pystan.check_hmc_diagnostics(fit)\n",
      "Fitting models: 100%|██████████| 12/12 [8:52:19<00:00, 2661.65s/model]  \n"
     ]
    }
   ],
   "source": [
    "def fit_and_evaluate(model: 'StanFactorizer', init_kwargs: dict, X_train, X_val=None):\n",
    "    model_object = model(**init_kwargs)\n",
    " \n",
    "    t0 = time()\n",
    "    model_object.fit(X_train)\n",
    "    fit_time = time()-t0\n",
    "    \n",
    "    train_mae = model_object.mae(X_train)\n",
    "    \n",
    "    if df_val is not None:\n",
    "        val_mae = model_object.mae(X_val)   \n",
    "    else:\n",
    "        val_mae = None\n",
    "        \n",
    "    return model_object, fit_time, train_mae, val_mae\n",
    "\n",
    "def fit_and_evaluate_models(models: Iterable, X_train, X_val=None, candidate_kwargs: dict={},\n",
    "                            static_kwargs: dict={}, verbose=True):\n",
    "        \n",
    "    hist = {'model':[], 'params':[], 'fit_time':[], 'train_mae':[], 'val_mae':[]}\n",
    "    \n",
    "    param_gen = tqdm(ParameterGrid({'model':models, **candidate_kwargs}), \n",
    "                     desc='Fitting models', disable=not verbose, unit='model', position=0)\n",
    "    \n",
    "    for paramdict in param_gen:\n",
    "        model = paramdict.pop('model')\n",
    "        \n",
    "        hist['params'].append(paramdict)\n",
    "        \n",
    "        paramdict = paramdict.copy()\n",
    "        paramdict.update(static_kwargs)\n",
    "\n",
    "        model_object, fit_time, train_mae, val_mae = fit_and_evaluate(\n",
    "            model=model,\n",
    "            init_kwargs=paramdict,\n",
    "            X_train=X_train,\n",
    "            X_val=X_val,\n",
    "        )\n",
    "        \n",
    "        hist['model'].append(model_object)\n",
    "        hist['fit_time'].append(fit_time)\n",
    "        hist['train_mae'].append(train_mae)\n",
    "        hist['val_mae'].append(val_mae)\n",
    "        \n",
    "    return hist\n",
    "    \n",
    "models = [\n",
    "    StanClasses.SimpleFactorizer,\n",
    "    StanClasses.NonNegativeFactorizer,\n",
    "    StanClasses.ARD_Factorizer\n",
    "]\n",
    "# models = [\n",
    "#     StanClasses.NonNegativeFactorizer,\n",
    "# ]\n",
    "\n",
    "init_kwargs = {'n_components':[10,20,30,40]}\n",
    "# init_kwargs = {'n_components':[5,10]}\n",
    "    \n",
    "static_kwargs = {\n",
    "    'chains':1, \n",
    "    'n_jobs':1, \n",
    "    'iter':8000, \n",
    "    'thin':10, \n",
    "    'control':{'max_treedepth':20}\n",
    "}\n",
    "\n",
    "hist = fit_and_evaluate_models(\n",
    "    models=models,\n",
    "    X_train=df_train,\n",
    "    X_val=df_val,\n",
    "    candidate_kwargs=init_kwargs,\n",
    "    static_kwargs=static_kwargs\n",
    ")"
   ]
  },
  {
   "cell_type": "code",
   "execution_count": 15,
   "metadata": {},
   "outputs": [
    {
     "name": "stderr",
     "output_type": "stream",
     "text": [
      "/home/napha/INF367A/stanenv/lib/python3.6/site-packages/pandas/io/pickle.py:88: UserWarning: Pickling fit objects is an experimental feature!\n",
      "The relevant StanModel instance must be pickled along with this fit object.\n",
      "When unpickling the StanModel must be unpickled first.\n",
      "  f.write(pickle.dumps(obj, protocol=protocol))\n"
     ]
    }
   ],
   "source": [
    "# df_hist = pd.DataFrame(hist)\n",
    "# df_hist['model'] = df_hist['model'].map(lambda x: type(x).__name__)\n",
    "\n",
    "# df_hist.to_pickle('histpickle_withmodels.p')"
   ]
  },
  {
   "cell_type": "code",
   "execution_count": 9,
   "metadata": {},
   "outputs": [],
   "source": [
    "df_hist = pd.DataFrame(hist)"
   ]
  },
  {
   "cell_type": "code",
   "execution_count": 10,
   "metadata": {},
   "outputs": [
    {
     "data": {
      "image/png": "[encoded data removed]",
      "text/plain": [
       "<Figure size 720x360 with 1 Axes>"
      ]
     },
     "metadata": {
      "needs_background": "light"
     },
     "output_type": "display_data"
    },
    {
     "data": {
      "image/png": "[encoded data removed]",
      "text/plain": [
       "<Figure size 720x360 with 1 Axes>"
      ]
     },
     "metadata": {
      "needs_background": "light"
     },
     "output_type": "display_data"
    }
   ],
   "source": [
    "def _plot_ci(self, n, P, lower_bounds, upper_bounds, ax, *args,\n",
    "             **kwargs):\n",
    "    '''\n",
    "    Plots credible intervals\n",
    "    '''\n",
    "    means = P.mean(axis=0)\n",
    "\n",
    "    if ax is None:\n",
    "        ax = plt.gca()\n",
    "\n",
    "    ax.errorbar(range(n), means,\n",
    "                yerr=[means-lower_bounds, upper_bounds-means],\n",
    "                fmt='o', *args, **kwargs)\n",
    "\n",
    "def ci(self, n_elements: int=20, row_inds: Iterable=None, \n",
    "       col_inds: Iterable=None, n_samples: int=1000, p=0.95, plot: bool=False, \n",
    "       ax: 'matplotlib.Axes'=None, *args, **kwargs):\n",
    "    '''\n",
    "    Computes credible intervals first elements of matrix.\n",
    "\n",
    "    Parameters\n",
    "    ------------\n",
    "    n_elements: Number of elements to calculte credible intervals for, \n",
    "                no effect if col_inds and row_inds are given.\n",
    "    row_inds: Optional, which row indices in X to show CIs for\n",
    "\n",
    "    col_inds: Optional, which column indices in X to show CIs for\n",
    "\n",
    "    n_samples: Number of samples to sample from predictive distribution\n",
    "\n",
    "    p: Optional, credible interval percentage, 0.95 by default\n",
    "\n",
    "    plot: Optional, to plot credible intervals or not, False by default\n",
    "\n",
    "    ax: Optional, plots on given ax, no effect if show is False\n",
    "\n",
    "    Returns\n",
    "    --------\n",
    "    (lower_bounds, upper_bounds)\n",
    "    '''\n",
    "    self.assert_fitted()\n",
    "\n",
    "    # This is equivalent to Xs = np.array([U@V for U,V in zip(Us, Vs)])\n",
    "    Xs = self.Us@self.Vs\n",
    "\n",
    "    if (row_inds is None) or (col_inds is None):\n",
    "        assert (row_inds and col_inds) is None,\\\n",
    "            \"Either row_inds and col_inds are both None, or both Iterables\"\n",
    "        # Used to extract first n_elements from predicted Xs\n",
    "        row_inds, col_inds = np.unravel_index(range(n_elements), Xs.shape[1:])\n",
    "\n",
    "    assert len(row_inds) == len(col_inds),\\\n",
    "        \"Length mismatch between row_inds and col_inds\"\n",
    "\n",
    "    # Sample from predictive distribution\n",
    "    picks = np.random.randint(0, len(Xs), n_samples)\n",
    "    P = Xs[picks][:,row_inds, col_inds]\n",
    "    P = self._likelihood_sample(P, picks)\n",
    "    P.sort(axis=0)\n",
    "\n",
    "    # Get credible intervals of samples from predictive distribution\n",
    "    half_p = (1-p)/2\n",
    "    lb = np.floor((half_p*n_samples)).astype(int)\n",
    "    ub = np.ceil((p+half_p)*n_samples).astype(int)\n",
    "\n",
    "    lower_bounds, upper_bounds = P[lb], P[ub]\n",
    "    \n",
    "    if plot:\n",
    "        _plot_ci(self, len(row_inds), P, lower_bounds, upper_bounds, ax, *args,\n",
    "                    **kwargs)\n",
    "\n",
    "    return lower_bounds, upper_bounds\n",
    "\n",
    "def ci_df(self, df):\n",
    "    fig, ax = plt.subplots(figsize=(10,5))\n",
    "    ci(self, row_inds=df.user_id, col_inds=df.item_id, plot=True, zorder=0, ax=ax)\n",
    "    ax.scatter(range(len(df)), df.rating, marker='x', c='orangered', zorder=1)\n",
    "    plt.show()\n",
    "\n",
    "ci_df(hist['model'][5], df_train.sample(n=69))\n",
    "ci_df(hist['model'][5], df_val.sample(n=69))"
   ]
  },
  {
   "cell_type": "code",
   "execution_count": 11,
   "metadata": {},
   "outputs": [
    {
     "data": {
      "text/html": [
       "<div>\n",
       "<style scoped>\n",
       "    .dataframe tbody tr th:only-of-type {\n",
       "        vertical-align: middle;\n",
       "    }\n",
       "\n",
       "    .dataframe tbody tr th {\n",
       "        vertical-align: top;\n",
       "    }\n",
       "\n",
       "    .dataframe thead th {\n",
       "        text-align: right;\n",
       "    }\n",
       "</style>\n",
       "<table border=\"1\" class=\"dataframe\">\n",
       "  <thead>\n",
       "    <tr style=\"text-align: right;\">\n",
       "      <th></th>\n",
       "      <th>model</th>\n",
       "      <th>params</th>\n",
       "      <th>fit_time</th>\n",
       "      <th>train_mae</th>\n",
       "      <th>val_mae</th>\n",
       "    </tr>\n",
       "  </thead>\n",
       "  <tbody>\n",
       "    <tr>\n",
       "      <th>7</th>\n",
       "      <td>&lt;StanClasses.NonNegativeFactorizer object at 0...</td>\n",
       "      <td>{'n_components': 40}</td>\n",
       "      <td>5973.190706</td>\n",
       "      <td>0.608221</td>\n",
       "      <td>0.706140</td>\n",
       "    </tr>\n",
       "    <tr>\n",
       "      <th>6</th>\n",
       "      <td>&lt;StanClasses.NonNegativeFactorizer object at 0...</td>\n",
       "      <td>{'n_components': 30}</td>\n",
       "      <td>1620.042690</td>\n",
       "      <td>0.590106</td>\n",
       "      <td>0.714440</td>\n",
       "    </tr>\n",
       "    <tr>\n",
       "      <th>5</th>\n",
       "      <td>&lt;StanClasses.NonNegativeFactorizer object at 0...</td>\n",
       "      <td>{'n_components': 20}</td>\n",
       "      <td>1397.458637</td>\n",
       "      <td>0.564449</td>\n",
       "      <td>0.721469</td>\n",
       "    </tr>\n",
       "    <tr>\n",
       "      <th>4</th>\n",
       "      <td>&lt;StanClasses.NonNegativeFactorizer object at 0...</td>\n",
       "      <td>{'n_components': 10}</td>\n",
       "      <td>799.434563</td>\n",
       "      <td>0.549785</td>\n",
       "      <td>0.725667</td>\n",
       "    </tr>\n",
       "    <tr>\n",
       "      <th>11</th>\n",
       "      <td>&lt;StanClasses.ARD_Factorizer object at 0x7f99b7...</td>\n",
       "      <td>{'n_components': 40}</td>\n",
       "      <td>6030.320011</td>\n",
       "      <td>0.552589</td>\n",
       "      <td>0.730425</td>\n",
       "    </tr>\n",
       "    <tr>\n",
       "      <th>10</th>\n",
       "      <td>&lt;StanClasses.ARD_Factorizer object at 0x7f99b7...</td>\n",
       "      <td>{'n_components': 30}</td>\n",
       "      <td>4793.342878</td>\n",
       "      <td>0.543609</td>\n",
       "      <td>0.734893</td>\n",
       "    </tr>\n",
       "    <tr>\n",
       "      <th>8</th>\n",
       "      <td>&lt;StanClasses.ARD_Factorizer object at 0x7f99bd...</td>\n",
       "      <td>{'n_components': 10}</td>\n",
       "      <td>1674.963489</td>\n",
       "      <td>0.536099</td>\n",
       "      <td>0.736567</td>\n",
       "    </tr>\n",
       "    <tr>\n",
       "      <th>9</th>\n",
       "      <td>&lt;StanClasses.ARD_Factorizer object at 0x7f99b7...</td>\n",
       "      <td>{'n_components': 20}</td>\n",
       "      <td>5403.942647</td>\n",
       "      <td>0.532842</td>\n",
       "      <td>0.741788</td>\n",
       "    </tr>\n",
       "    <tr>\n",
       "      <th>0</th>\n",
       "      <td>&lt;StanClasses.SimpleFactorizer object at 0x7f99...</td>\n",
       "      <td>{'n_components': 10}</td>\n",
       "      <td>685.746223</td>\n",
       "      <td>0.625222</td>\n",
       "      <td>0.761773</td>\n",
       "    </tr>\n",
       "    <tr>\n",
       "      <th>1</th>\n",
       "      <td>&lt;StanClasses.SimpleFactorizer object at 0x7f99...</td>\n",
       "      <td>{'n_components': 20}</td>\n",
       "      <td>944.576799</td>\n",
       "      <td>0.626147</td>\n",
       "      <td>0.839341</td>\n",
       "    </tr>\n",
       "    <tr>\n",
       "      <th>2</th>\n",
       "      <td>&lt;StanClasses.SimpleFactorizer object at 0x7f99...</td>\n",
       "      <td>{'n_components': 30}</td>\n",
       "      <td>1181.966219</td>\n",
       "      <td>0.633021</td>\n",
       "      <td>0.927710</td>\n",
       "    </tr>\n",
       "    <tr>\n",
       "      <th>3</th>\n",
       "      <td>&lt;StanClasses.SimpleFactorizer object at 0x7f99...</td>\n",
       "      <td>{'n_components': 40}</td>\n",
       "      <td>1431.807194</td>\n",
       "      <td>0.642483</td>\n",
       "      <td>1.005346</td>\n",
       "    </tr>\n",
       "  </tbody>\n",
       "</table>\n",
       "</div>"
      ],
      "text/plain": [
       "                                                model                params  \\\n",
       "7   <StanClasses.NonNegativeFactorizer object at 0...  {'n_components': 40}   \n",
       "6   <StanClasses.NonNegativeFactorizer object at 0...  {'n_components': 30}   \n",
       "5   <StanClasses.NonNegativeFactorizer object at 0...  {'n_components': 20}   \n",
       "4   <StanClasses.NonNegativeFactorizer object at 0...  {'n_components': 10}   \n",
       "11  <StanClasses.ARD_Factorizer object at 0x7f99b7...  {'n_components': 40}   \n",
       "10  <StanClasses.ARD_Factorizer object at 0x7f99b7...  {'n_components': 30}   \n",
       "8   <StanClasses.ARD_Factorizer object at 0x7f99bd...  {'n_components': 10}   \n",
       "9   <StanClasses.ARD_Factorizer object at 0x7f99b7...  {'n_components': 20}   \n",
       "0   <StanClasses.SimpleFactorizer object at 0x7f99...  {'n_components': 10}   \n",
       "1   <StanClasses.SimpleFactorizer object at 0x7f99...  {'n_components': 20}   \n",
       "2   <StanClasses.SimpleFactorizer object at 0x7f99...  {'n_components': 30}   \n",
       "3   <StanClasses.SimpleFactorizer object at 0x7f99...  {'n_components': 40}   \n",
       "\n",
       "       fit_time  train_mae   val_mae  \n",
       "7   5973.190706   0.608221  0.706140  \n",
       "6   1620.042690   0.590106  0.714440  \n",
       "5   1397.458637   0.564449  0.721469  \n",
       "4    799.434563   0.549785  0.725667  \n",
       "11  6030.320011   0.552589  0.730425  \n",
       "10  4793.342878   0.543609  0.734893  \n",
       "8   1674.963489   0.536099  0.736567  \n",
       "9   5403.942647   0.532842  0.741788  \n",
       "0    685.746223   0.625222  0.761773  \n",
       "1    944.576799   0.626147  0.839341  \n",
       "2   1181.966219   0.633021  0.927710  \n",
       "3   1431.807194   0.642483  1.005346  "
      ]
     },
     "execution_count": 11,
     "metadata": {},
     "output_type": "execute_result"
    }
   ],
   "source": [
    "df_hist.sort_values('val_mae')"
   ]
  },
  {
   "cell_type": "markdown",
   "metadata": {},
   "source": [
    "<br>\n",
    "<br>\n",
    "<br>\n",
    "<br>\n",
    "<br>\n",
    "<br>\n",
    "<br>\n",
    "<br>\n",
    "<br>\n",
    "<br>\n",
    "<br>\n",
    "<br>\n",
    "<br>\n",
    "<br>\n",
    "<br>\n",
    "<br>\n",
    "<br>\n",
    "<br>\n",
    "<br>\n",
    "<br>\n",
    "<br>\n",
    "<br>\n",
    "<br>\n",
    "<br>\n",
    "<br>\n",
    "<br>\n",
    "<br>\n",
    "<br>\n",
    "<br>\n",
    "<br>"
   ]
  },
  {
   "cell_type": "markdown",
   "metadata": {},
   "source": [
    "# Test Place"
   ]
  },
  {
   "cell_type": "code",
   "execution_count": 12,
   "metadata": {},
   "outputs": [
    {
     "name": "stdout",
     "output_type": "stream",
     "text": [
      "2 8\n"
     ]
    },
    {
     "data": {
      "image/png": "[encoded data removed]",
      "text/plain": [
       "<Figure size 432x288 with 1 Axes>"
      ]
     },
     "metadata": {
      "needs_background": "light"
     },
     "output_type": "display_data"
    },
    {
     "name": "stdout",
     "output_type": "stream",
     "text": [
      "1 0.08\n"
     ]
    },
    {
     "data": {
      "image/png": "[encoded data removed]",
      "text/plain": [
       "<Figure size 432x288 with 1 Axes>"
      ]
     },
     "metadata": {
      "needs_background": "light"
     },
     "output_type": "display_data"
    }
   ],
   "source": [
    "xrange = np.linspace(-0.5,4,1000)\n",
    "\n",
    "a = 2\n",
    "b = 4*a\n",
    "y = stats.gamma.pdf(xrange, a=a, scale=1/b)\n",
    "print(a, b)\n",
    "plt.plot(xrange, y)\n",
    "plt.show()\n",
    "\n",
    "a = 1\n",
    "b = 0.08*a\n",
    "y = stats.gamma.pdf(xrange, a=a, scale=1/b)\n",
    "print(a, b)\n",
    "plt.plot(xrange, y)\n",
    "# plt.axvline(((a-1)/b/(a-1)))\n",
    "plt.show()"
   ]
  },
  {
   "cell_type": "code",
   "execution_count": 13,
   "metadata": {},
   "outputs": [
    {
     "ename": "ValueError",
     "evalue": "",
     "output_type": "error",
     "traceback": [
      "\u001b[0;31m---------------------------------------------------------------------------\u001b[0m",
      "\u001b[0;31mValueError\u001b[0m                                Traceback (most recent call last)",
      "\u001b[0;32m<ipython-input-13-e4c8e09828d5>\u001b[0m in \u001b[0;36m<module>\u001b[0;34m\u001b[0m\n\u001b[0;32m----> 1\u001b[0;31m \u001b[0;32mraise\u001b[0m \u001b[0mValueError\u001b[0m\u001b[0;34m\u001b[0m\u001b[0;34m\u001b[0m\u001b[0m\n\u001b[0m",
      "\u001b[0;31mValueError\u001b[0m: "
     ]
    }
   ],
   "source": [
    "raise ValueError"
   ]
  },
  {
   "cell_type": "code",
   "execution_count": null,
   "metadata": {},
   "outputs": [],
   "source": [
    "sm_test_code = utils.get_stan_code('sanity.stan')\n",
    "sm_test = utils.StanModel_cache(sm_test_code, 'test')"
   ]
  },
  {
   "cell_type": "code",
   "execution_count": null,
   "metadata": {},
   "outputs": [],
   "source": [
    "fit_test = sm_test.sampling(algorithm=\"Fixed_param\", chains=4, n_jobs=-1, iter=10)"
   ]
  },
  {
   "cell_type": "code",
   "execution_count": null,
   "metadata": {},
   "outputs": [],
   "source": [
    "A = np.array([[0.674531,0.560879],[-1.82799,0.0132566]])"
   ]
  },
  {
   "cell_type": "code",
   "execution_count": null,
   "metadata": {},
   "outputs": [],
   "source": [
    "A@A"
   ]
  },
  {
   "cell_type": "code",
   "execution_count": null,
   "metadata": {},
   "outputs": [],
   "source": [
    "X_ = "
   ]
  }
 ],
 "metadata": {
  "kernelspec": {
   "display_name": "Python 3",
   "language": "python",
   "name": "python3"
  },
  "language_info": {
   "codemirror_mode": {
    "name": "ipython",
    "version": 3
   },
   "file_extension": ".py",
   "mimetype": "text/x-python",
   "name": "python",
   "nbconvert_exporter": "python",
   "pygments_lexer": "ipython3",
   "version": "3.6.9"
  }
 },
 "nbformat": 4,
 "nbformat_minor": 4
}
