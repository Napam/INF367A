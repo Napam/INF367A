{
 "cells": [
  {
   "cell_type": "code",
   "execution_count": 1,
   "metadata": {},
   "outputs": [],
   "source": [
    "import numpy as np\n",
    "seed = 42069\n",
    "np.random.seed(seed)\n",
    "import pandas as pd\n",
    "from matplotlib import pyplot as plt\n",
    "import arviz\n",
    "import pystan\n",
    "from scipy import sparse, stats\n",
    "from typing import Iterable, Union, Callable\n",
    "from sklearn.model_selection import train_test_split\n",
    "import altair as alt\n",
    "from time import time\n",
    "\n",
    "# Own files\n",
    "import utils \n",
    "import StanClasses"
   ]
  },
  {
   "cell_type": "markdown",
   "metadata": {},
   "source": [
    "# Load and preprocess data"
   ]
  },
  {
   "cell_type": "markdown",
   "metadata": {},
   "source": [
    "The data we have is essentially a matrix, where the each row correspond to a person, and each column correspond to a movie. However, the matrix is very sparse and thus data is stored in sparse format (i.e. specified with indices and the corresponding values). "
   ]
  },
  {
   "cell_type": "code",
   "execution_count": 2,
   "metadata": {},
   "outputs": [],
   "source": [
    "# Define constants\n",
    "\n",
    "DATA_DIR = 'ml-100k'\n",
    "SM_SIMPLE_NAME = 'sm_simple.stan'"
   ]
  },
  {
   "cell_type": "code",
   "execution_count": 3,
   "metadata": {},
   "outputs": [],
   "source": [
    "from importlib import reload\n",
    "reload(utils)\n",
    "\n",
    "df, _, _ = utils.get_ml100k_data(DATA_DIR, subsample_top_users=150, subsample_top_items=20)\n",
    "df[['user_id', 'item_id']] -= 1\n",
    "\n",
    "# We are not going to use timestamp, therefore drop it\n",
    "df.drop('timestamp', axis='columns', inplace=True)"
   ]
  },
  {
   "cell_type": "markdown",
   "metadata": {},
   "source": [
    "The user ids and item (movie) ids are essentially integer ranges, starting from and 1 to the number of users and items respectively. We don't have the all the unique ids when subsampling users and movies. It becomes problematic ... TODO: Write this"
   ]
  },
  {
   "cell_type": "code",
   "execution_count": 4,
   "metadata": {},
   "outputs": [],
   "source": [
    "def column_relabler(df: pd.DataFrame, column: str):\n",
    "    uniques = pd.value_counts(df[column], sort=False).index.values\n",
    "    n_uniques = len(uniques)\n",
    "\n",
    "    # Count from 1 to conform with Stan (Stan counts indexes arrays starting at 1)\n",
    "    num2id = {num_:id_ for num_, id_ in zip(range(0, n_uniques), uniques)}\n",
    "    id2num = {id_:num_ for num_, id_ in zip(range(0, n_uniques), uniques)}\n",
    "    \n",
    "    df[column] = df[column].map(id2num)\n",
    "    return id2num, num2id\n",
    "\n",
    "df_num = df.copy()\n",
    "user2num, num2user = column_relabler(df_num, 'user_id')\n",
    "item2num, num2item = column_relabler(df_num, 'item_id')\n",
    "\n",
    "# p, q represents shape of the matrix as if it was dense\n",
    "p, q = len(user2num), len(item2num)"
   ]
  },
  {
   "cell_type": "code",
   "execution_count": 5,
   "metadata": {},
   "outputs": [],
   "source": [
    "df_train, df_valtest = train_test_split(df_num, test_size=50)\n",
    "df_val, df_test = train_test_split(df_valtest, test_size=25)\n",
    "del df_valtest"
   ]
  },
  {
   "cell_type": "markdown",
   "metadata": {},
   "source": [
    "# Matrix Factorization \n",
    "Want to factorize the dense matrix $X_{n\\times m} \\approx U_{n\\times k}V_{k\\times m}$, where the subscripts denotes matrix shapes. The $k$ dimension denotes the user specified embedding dimension. We use different probabilistic models for the components. \n"
   ]
  },
  {
   "cell_type": "markdown",
   "metadata": {},
   "source": [
    "## Model 1: Simple\n",
    "Ultra simple\n",
    "\n",
    "$$ U_{ij} \\sim N(\\mu_u, \\sigma_u) $$\n",
    "$$ V_{ij} \\sim N(\\mu_v, \\sigma_v) $$\n",
    "$$ X_{ij}\\sim N((UV_{ij}), \\sigma_x)$$\n",
    "\n",
    "User defined variables:\n",
    "$\\mu_u, \\sigma_u, \\mu_v, \\sigma_v, \\sigma_x$"
   ]
  },
  {
   "cell_type": "markdown",
   "metadata": {},
   "source": [
    "## Model 2: Non-negative Matrix Factorization\n",
    "\n",
    "$$ U \\sim Gamma(\\mu_u, \\sigma_u) $$\n",
    "$$ V \\sim Gamma(\\mu_v, \\sigma_v) $$\n",
    "$$ X_{ij}\\sim Gamma(UV_{ij}, \\sigma_x)$$\n",
    "\n",
    "User defined variables:\n",
    "$\\mu_u, \\sigma_u, \\mu_v, \\sigma_v, \\sigma_x$"
   ]
  },
  {
   "cell_type": "markdown",
   "metadata": {},
   "source": [
    "## Model 3: ARD\n",
    "\n",
    "$$ U \\sim N(\\mu_u, \\alpha_u) $$\n",
    "$$ V \\sim N(\\mu_v, \\psi_v) $$\n",
    "$$ X_{ij}\\sim N((UV)_{ij}, \\beta)$$\n",
    "$$ \\beta \\sim Gamma(a, b) $$\n",
    "\n",
    "$$ \\alpha_{ij} \\sim Gamma(c, d) $$\n",
    "$$ \\psi_{ij} \\sim Gamma(e, f) $$\n",
    "\n",
    "User defined variables:\n",
    "$a, b, c, d, e, f$"
   ]
  },
  {
   "cell_type": "code",
   "execution_count": 6,
   "metadata": {},
   "outputs": [
    {
     "data": {
      "text/plain": [
       "[<matplotlib.lines.Line2D at 0x7f1155e5fda0>]"
      ]
     },
     "execution_count": 6,
     "metadata": {},
     "output_type": "execute_result"
    },
    {
     "data": {
      "image/png": "[encoded data removed]",
      "text/plain": [
       "<Figure size 432x288 with 1 Axes>"
      ]
     },
     "metadata": {
      "needs_background": "light"
     },
     "output_type": "display_data"
    }
   ],
   "source": [
    "xrange = np.linspace(0,5,100)\n",
    "plt.plot(xrange, stats.gamma.pdf(xrange, 1, 1))"
   ]
  },
  {
   "cell_type": "code",
   "execution_count": 7,
   "metadata": {},
   "outputs": [],
   "source": [
    "# sm_simple_code = utils.get_stan_code(SM_SIMPLE_NAME)\n",
    "# sm_simple = utils.StanModel_cache(sm_simple_code, 'simple')\n",
    "\n",
    "# data_simple = dict(\n",
    "#     n_components = 10,\n",
    "#     n = len(df_train),\n",
    "#     p=p,\n",
    "#     q=q,\n",
    "#     df = df_train,\n",
    "#     mu_u = 1,\n",
    "#     sigma_u = 5,\n",
    "#     mu_v = 1,\n",
    "#     sigma_v = 5,\n",
    "#     sigma_x = 1\n",
    "# )\n",
    "\n",
    "# control_simple = dict(\n",
    "#     max_treedepth=20\n",
    "# )\n",
    "\n",
    "# t0 = time()\n",
    "# fit = sm_simple.sampling(data_simple, chains=1, n_jobs=-1, \n",
    "#                          iter=2000, control=control_simple, thin=5)\n",
    "# print(time()-t0)"
   ]
  },
  {
   "cell_type": "markdown",
   "metadata": {},
   "source": [
    "2K samples, 1 chain, 5 thin\n",
    "\n",
    "X_hat:            2min 30s, 2min 35, 2min 23s\n",
    "\n",
    "Array of vectors: 4min 21s, 4min 19s\n",
    "\n",
    "Matrix, no X_hat: 6min 14s, 6min 5s"
   ]
  },
  {
   "cell_type": "code",
   "execution_count": 8,
   "metadata": {},
   "outputs": [
    {
     "name": "stdout",
     "output_type": "stream",
     "text": [
      "Using cached StanModel\n"
     ]
    },
    {
     "name": "stderr",
     "output_type": "stream",
     "text": [
      "WARNING:pystan:Maximum (flat) parameter count (1000) exceeded: skipping diagnostic tests for n_eff and Rhat.\n",
      "To run all diagnostics call pystan.check_hmc_diagnostics(fit)\n"
     ]
    },
    {
     "name": "stdout",
     "output_type": "stream",
     "text": [
      "150.566223859787\n"
     ]
    }
   ],
   "source": [
    "sm_simple = StanClasses.SimpleFactorizer(10)\n",
    "\n",
    "t0 = time()\n",
    "sm_simple.fit(df_train, chains=1, n_jobs=-1, iter=2000, thin=5, control={'max_treedepth':20})\n",
    "print(time()-t0)"
   ]
  },
  {
   "cell_type": "code",
   "execution_count": 9,
   "metadata": {},
   "outputs": [
    {
     "data": {
      "text/plain": [
       "(array([2.50236595, 1.89408862, 2.451628  , 1.82229371, 2.64291732,\n",
       "        2.68266017, 2.34971161, 2.17605432, 2.92078228, 2.17524545,\n",
       "        2.25250807, 2.49389591, 2.51998732, 2.665248  , 2.86381855,\n",
       "        2.91635138, 2.16781428, 2.17577952, 2.4562519 , 2.56204482]),\n",
       " array([6.50216831, 6.1731075 , 6.64752403, 6.25865892, 7.05138124,\n",
       "        6.87335544, 6.98899293, 6.73067419, 7.26215611, 6.67151163,\n",
       "        6.55073536, 7.03023026, 7.02271027, 7.14694583, 7.01039172,\n",
       "        7.36212744, 6.39853915, 6.73943094, 6.50301576, 6.71459282]))"
      ]
     },
     "execution_count": 9,
     "metadata": {},
     "output_type": "execute_result"
    },
    {
     "data": {
      "image/png": "[encoded data removed]",
      "text/plain": [
       "<Figure size 432x288 with 1 Axes>"
      ]
     },
     "metadata": {
      "needs_background": "light"
     },
     "output_type": "display_data"
    }
   ],
   "source": [
    "sm_simple.ci(show=True)"
   ]
  },
  {
   "cell_type": "code",
   "execution_count": 10,
   "metadata": {},
   "outputs": [],
   "source": [
    "Us, Vs = sm_simple.Us, sm_simple.Vs"
   ]
  },
  {
   "cell_type": "code",
   "execution_count": 15,
   "metadata": {},
   "outputs": [
    {
     "name": "stdout",
     "output_type": "stream",
     "text": [
      "0.6205422818619017\n",
      "0.7542698705633484\n",
      "0.8016767728210531\n"
     ]
    }
   ],
   "source": [
    "print(sm_simple.mae(df_train))\n",
    "print(sm_simple.mae(df_val))\n",
    "print(sm_simple.mae(df_test))"
   ]
  },
  {
   "cell_type": "code",
   "execution_count": 20,
   "metadata": {},
   "outputs": [
    {
     "name": "stdout",
     "output_type": "stream",
     "text": [
      "(1000, 20)\n"
     ]
    },
    {
     "data": {
      "image/png": "[encoded data removed]",
      "text/plain": [
       "<Figure size 432x288 with 1 Axes>"
      ]
     },
     "metadata": {
      "needs_background": "light"
     },
     "output_type": "display_data"
    }
   ],
   "source": [
    "def pizza(*args, **kwargs):\n",
    "    '''\n",
    "    The MCMC sampling results with the 3D matrices Us, Vs, which are the sampled factors. \n",
    "    \n",
    "    Let Xs = Us@Vs, this is equivalent to Xs = np.array([U@V for U,V in zip(Us, Vs)])\n",
    "    '''\n",
    "    return np.random.normal\n",
    "    \n",
    "    \n",
    "def CredibleIntervals(Us: np.ndarray, Vs: np.ndarray, scale: float=1, \n",
    "                      n_elements: int=20, n_samples: int=1000, p=0.95, \n",
    "                      show: bool=False, ax: 'AxesObject'=None):\n",
    "    # Xs is a 3D array\n",
    "    Xs = Us@Vs\n",
    "    row_inds, col_inds = np.unravel_index(range(n_elements), Xs.shape[1:])\n",
    "    \n",
    "    # P is the first n_elements from randomly selected (with replacement) Us and Vs.\n",
    "    P = Xs[np.random.randint(0, len(Xs), n_samples)][:,row_inds, col_inds]\n",
    "    \n",
    "    P = np.random.normal(loc=P, scale=scale, size=P.shape)\n",
    "    P.sort(axis=0)\n",
    "    \n",
    "    half_p = (1-p)/2\n",
    "    lb = np.floor((half_p*n_samples)).astype(int)\n",
    "    ub = np.ceil((p+half_p)*n_samples).astype(int)\n",
    "    \n",
    "    lower_bounds, upper_bounds = P[lb], P[ub]\n",
    "\n",
    "    means = P.mean(0)\n",
    "    \n",
    "    if show:\n",
    "        if ax is None:\n",
    "            ax = plt.gca()\n",
    "\n",
    "        ax.errorbar(range(n_elements), means, \n",
    "                     yerr=[means-lower_bounds, upper_bounds-means], \n",
    "                     fmt='o', linewidth=2)\n",
    "    \n",
    "    return lower_bounds, upper_bounds\n",
    "    \n",
    "\n",
    "_ = CredibleIntervals(Us, Vs, show=1)"
   ]
  },
  {
   "cell_type": "markdown",
   "metadata": {},
   "source": [
    "<br>\n",
    "<br>\n",
    "<br>\n",
    "<br>\n",
    "<br>\n",
    "<br>\n",
    "<br>\n",
    "<br>\n",
    "<br>\n",
    "<br>\n",
    "<br>\n",
    "<br>\n",
    "<br>\n",
    "<br>\n",
    "<br>\n",
    "<br>\n",
    "<br>\n",
    "<br>\n",
    "<br>\n",
    "<br>\n",
    "<br>\n",
    "<br>\n",
    "<br>\n",
    "<br>\n",
    "<br>\n",
    "<br>\n",
    "<br>\n",
    "<br>\n",
    "<br>\n",
    "<br>"
   ]
  },
  {
   "cell_type": "markdown",
   "metadata": {},
   "source": [
    "# Test Place"
   ]
  },
  {
   "cell_type": "code",
   "execution_count": 13,
   "metadata": {},
   "outputs": [
    {
     "ename": "ValueError",
     "evalue": "",
     "output_type": "error",
     "traceback": [
      "\u001b[0;31m---------------------------------------------------------------------------\u001b[0m",
      "\u001b[0;31mValueError\u001b[0m                                Traceback (most recent call last)",
      "\u001b[0;32m<ipython-input-13-e4c8e09828d5>\u001b[0m in \u001b[0;36m<module>\u001b[0;34m\u001b[0m\n\u001b[0;32m----> 1\u001b[0;31m \u001b[0;32mraise\u001b[0m \u001b[0mValueError\u001b[0m\u001b[0;34m\u001b[0m\u001b[0;34m\u001b[0m\u001b[0m\n\u001b[0m",
      "\u001b[0;31mValueError\u001b[0m: "
     ]
    }
   ],
   "source": [
    "raise ValueError"
   ]
  },
  {
   "cell_type": "code",
   "execution_count": null,
   "metadata": {},
   "outputs": [],
   "source": [
    "sm_test_code = utils.get_stan_code('sanity.stan')\n",
    "sm_test = utils.StanModel_cache(sm_test_code, 'test')"
   ]
  },
  {
   "cell_type": "code",
   "execution_count": null,
   "metadata": {},
   "outputs": [],
   "source": [
    "fit_test = sm_test.sampling(algorithm=\"Fixed_param\", chains=4, n_jobs=-1, iter=10)"
   ]
  },
  {
   "cell_type": "code",
   "execution_count": null,
   "metadata": {},
   "outputs": [],
   "source": [
    "A = np.array([[0.674531,0.560879],[-1.82799,0.0132566]])"
   ]
  },
  {
   "cell_type": "code",
   "execution_count": null,
   "metadata": {},
   "outputs": [],
   "source": [
    "A@A"
   ]
  },
  {
   "cell_type": "code",
   "execution_count": null,
   "metadata": {},
   "outputs": [],
   "source": [
    "X_ = "
   ]
  }
 ],
 "metadata": {
  "kernelspec": {
   "display_name": "Python 3",
   "language": "python",
   "name": "python3"
  },
  "language_info": {
   "codemirror_mode": {
    "name": "ipython",
    "version": 3
   },
   "file_extension": ".py",
   "mimetype": "text/x-python",
   "name": "python",
   "nbconvert_exporter": "python",
   "pygments_lexer": "ipython3",
   "version": "3.6.9"
  }
 },
 "nbformat": 4,
 "nbformat_minor": 4
}
