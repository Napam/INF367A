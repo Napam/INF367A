{
 "cells": [
  {
   "cell_type": "code",
   "execution_count": 1,
   "metadata": {},
   "outputs": [],
   "source": [
    "import numpy as np\n",
    "seed = 42069\n",
    "np.random.seed(seed)\n",
    "import pandas as pd\n",
    "from matplotlib import pyplot as plt\n",
    "import arviz\n",
    "import pystan\n",
    "from scipy import sparse, stats\n",
    "from typing import Iterable, Union, Callable\n",
    "from sklearn.model_selection import train_test_split, ParameterGrid\n",
    "import altair as alt\n",
    "from time import time, sleep\n",
    "from tqdm import tqdm\n",
    "from multiprocessing import Pool\n",
    "import pickle\n",
    "\n",
    "# Own files\n",
    "import utils \n",
    "import StanClasses"
   ]
  },
  {
   "cell_type": "markdown",
   "metadata": {},
   "source": [
    "# Load and preprocess data"
   ]
  },
  {
   "cell_type": "markdown",
   "metadata": {},
   "source": [
    "The data we have is essentially a matrix, where the each row correspond to a person, and each column correspond to a movie. However, the matrix is very sparse and thus data is stored in sparse format (i.e. specified with indices and the corresponding values). "
   ]
  },
  {
   "cell_type": "code",
   "execution_count": 2,
   "metadata": {},
   "outputs": [],
   "source": [
    "# Define constants\n",
    "DATA_DIR = 'ml-100k'"
   ]
  },
  {
   "cell_type": "code",
   "execution_count": 3,
   "metadata": {},
   "outputs": [],
   "source": [
    "df, _, _ = utils.get_ml100k_data(DATA_DIR, subsample_top_users=250, subsample_top_items=250)\n",
    "df[['user_id', 'item_id']] -= 1\n",
    "\n",
    "# We are not going to use timestamp, therefore drop it\n",
    "df.drop('timestamp', axis='columns', inplace=True)"
   ]
  },
  {
   "cell_type": "markdown",
   "metadata": {},
   "source": [
    "The user ids and item (movie) ids are essentially integer ranges, starting from and 1 to the number of users and items respectively. We don't have the all the unique ids when subsampling users and movies. It becomes problematic ... TODO: Write this"
   ]
  },
  {
   "cell_type": "code",
   "execution_count": 4,
   "metadata": {},
   "outputs": [],
   "source": [
    "def column_relabler(df: pd.DataFrame, column: str):\n",
    "    uniques = pd.value_counts(df[column], sort=False).index.values\n",
    "    n_uniques = len(uniques)\n",
    "\n",
    "    num2id = {num_:id_ for num_, id_ in zip(range(0, n_uniques), uniques)}\n",
    "    id2num = {id_:num_ for num_, id_ in zip(range(0, n_uniques), uniques)}\n",
    "    \n",
    "    df[column] = df[column].map(id2num)\n",
    "    return id2num, num2id\n",
    "\n",
    "df_num = df.copy()\n",
    "user2num, num2user = column_relabler(df_num, 'user_id')\n",
    "item2num, num2item = column_relabler(df_num, 'item_id')\n",
    "\n",
    "# p, q represents shape of the matrix as if it was dense\n",
    "p, q = len(user2num), len(item2num)"
   ]
  },
  {
   "cell_type": "code",
   "execution_count": 28,
   "metadata": {},
   "outputs": [
    {
     "data": {
      "text/plain": [
       "0.49744"
      ]
     },
     "execution_count": 28,
     "metadata": {},
     "output_type": "execute_result"
    }
   ],
   "source": [
    "len(df_num)/(p*q)"
   ]
  },
  {
   "cell_type": "code",
   "execution_count": 5,
   "metadata": {},
   "outputs": [],
   "source": [
    "df_train, df_val = train_test_split(df_num, test_size=0.1, random_state=seed)"
   ]
  },
  {
   "cell_type": "code",
   "execution_count": 6,
   "metadata": {},
   "outputs": [
    {
     "name": "stdout",
     "output_type": "stream",
     "text": [
      "Dataframe dimensions:\n",
      "    df_train: (27981, 3)\n",
      "    df_val: (3109, 3)\n",
      "    \n"
     ]
    }
   ],
   "source": [
    "print(f'''Dataframe dimensions:\n",
    "    df_train: {df_train.shape}\n",
    "    df_val: {df_val.shape}\n",
    "    ''')"
   ]
  },
  {
   "cell_type": "markdown",
   "metadata": {},
   "source": [
    "# Matrix Factorization \n",
    "Want to factorize the dense matrix $X_{n\\times m} \\approx U_{n\\times k}V_{k\\times m}$, where the subscripts denotes matrix shapes. The $k$ dimension denotes the user specified embedding dimension. We use different probabilistic models for the components. \n"
   ]
  },
  {
   "cell_type": "markdown",
   "metadata": {},
   "source": [
    "## Model 1: Normal\n",
    "Not as simple as the simple model above, this is the analogous to the \"regular\" way when doing regression.\n",
    "\n",
    "$$ U_{ij} \\sim N(\\mu_U, \\sigma_U) $$\n",
    "$$ V_{ij} \\sim N(\\mu_V, \\sigma_V) $$\n",
    "$$ X_{ij}\\sim N((UV_{ij}), \\beta)$$\n",
    "$$ \\beta \\sim Gamma(a_\\beta, b_\\beta) $$\n",
    "\n",
    "User defined variables:\n",
    "$\\mu_U, \\sigma_U, \\mu_V, \\sigma_V, a_\\beta, b_\\beta$"
   ]
  },
  {
   "cell_type": "markdown",
   "metadata": {},
   "source": [
    "## Model 2: Non-negative Matrix Factorization\n",
    "\n",
    "$$ U_{ij}\\sim Gamma(a_U, b_U) $$\n",
    "$$ V_{ij}\\sim Gamma(a_V, b_V) $$\n",
    "$$ X_{ij}\\sim Normal((UV)_{ij}, \\beta)$$\n",
    "$$ \\beta \\sim Gamma(a_\\beta, b_\\beta) $$\n",
    "\n",
    "User defined variables:\n",
    "$a_U, b_U, a_V, b_V, a_\\beta, b_\\beta$"
   ]
  },
  {
   "cell_type": "markdown",
   "metadata": {},
   "source": [
    "## Model 3: ARD\n",
    "\n",
    "$$ U_{ij} \\sim N(\\mu_U, \\alpha_j) $$\n",
    "$$ V_{ij} \\sim N(\\mu_V, \\alpha_j) $$\n",
    "$$ X_{ij}\\sim N((UV)_{ij}, \\beta)$$\n",
    "$$ \\beta \\sim Gamma(a_\\beta, b_\\beta) $$\n",
    "$$ \\alpha_{j} \\sim Gamma(a_\\alpha, b_\\alpha) $$\n",
    "\n",
    "User defined variables:\n",
    "$\\mu_U, \\mu_V, a_\\alpha, b_\\alpha, a_\\beta, b_\\beta$"
   ]
  },
  {
   "cell_type": "code",
   "execution_count": 7,
   "metadata": {
    "scrolled": true
   },
   "outputs": [],
   "source": [
    "models = [\n",
    "    StanClasses.NormalFactorizer,\n",
    "    StanClasses.NonNegativeFactorizer,\n",
    "    StanClasses.ARD_Factorizer\n",
    "]\n",
    "\n",
    "init_kwargs = {'n_components':[3,5,10,15,20]}\n",
    "static_kwargs = {'chains':1, 'iter':1000, 'control':{'max_treedepth':15}}\n",
    "\n",
    "t0 = time()\n",
    "# hist = utils.fit_and_evaluate_models(\n",
    "#     models=models,\n",
    "#     X_train=df_train,\n",
    "#     X_val=df_val,\n",
    "#     candidate_kwargs=init_kwargs,\n",
    "#     static_kwargs=static_kwargs\n",
    "# )\n",
    "evaltime = time()-t0"
   ]
  },
  {
   "cell_type": "code",
   "execution_count": 8,
   "metadata": {},
   "outputs": [],
   "source": [
    "df_hist = pd.read_pickle('histpickle_withmodels3.pkl')\n",
    "df_hist.sort_values('val_mae', inplace=True)"
   ]
  },
  {
   "cell_type": "code",
   "execution_count": 9,
   "metadata": {},
   "outputs": [],
   "source": [
    "best_model = df_hist['model'].values[0]\n",
    "best_params = df_hist['params'].values[0].copy()"
   ]
  },
  {
   "cell_type": "code",
   "execution_count": 10,
   "metadata": {},
   "outputs": [
    {
     "name": "stdout",
     "output_type": "stream",
     "text": [
      "<StanClasses.ARD_Factorizer object at 0x7f2b58464cf8>\n",
      "{'n_components': 10}\n"
     ]
    }
   ],
   "source": [
    "print(best_model)\n",
    "print(best_params)"
   ]
  },
  {
   "cell_type": "code",
   "execution_count": 11,
   "metadata": {},
   "outputs": [
    {
     "data": {
      "text/html": [
       "<div>\n",
       "<style scoped>\n",
       "    .dataframe tbody tr th:only-of-type {\n",
       "        vertical-align: middle;\n",
       "    }\n",
       "\n",
       "    .dataframe tbody tr th {\n",
       "        vertical-align: top;\n",
       "    }\n",
       "\n",
       "    .dataframe thead th {\n",
       "        text-align: right;\n",
       "    }\n",
       "</style>\n",
       "<table border=\"1\" class=\"dataframe\">\n",
       "  <thead>\n",
       "    <tr style=\"text-align: right;\">\n",
       "      <th></th>\n",
       "      <th>model</th>\n",
       "      <th>params</th>\n",
       "      <th>fit_time</th>\n",
       "      <th>train_mae</th>\n",
       "      <th>val_mae</th>\n",
       "    </tr>\n",
       "  </thead>\n",
       "  <tbody>\n",
       "    <tr>\n",
       "      <th>7</th>\n",
       "      <td>&lt;StanClasses.ARD_Factorizer object at 0x7f2b58...</td>\n",
       "      <td>{'n_components': 10}</td>\n",
       "      <td>5140.227147</td>\n",
       "      <td>0.650904</td>\n",
       "      <td>0.682541</td>\n",
       "    </tr>\n",
       "    <tr>\n",
       "      <th>1</th>\n",
       "      <td>&lt;StanClasses.NormalFactorizer object at 0x7f2b...</td>\n",
       "      <td>{'n_components': 5}</td>\n",
       "      <td>1559.373360</td>\n",
       "      <td>0.648885</td>\n",
       "      <td>0.682633</td>\n",
       "    </tr>\n",
       "    <tr>\n",
       "      <th>0</th>\n",
       "      <td>&lt;StanClasses.NonNegativeFactorizer object at 0...</td>\n",
       "      <td>{'n_components': 3}</td>\n",
       "      <td>1523.805643</td>\n",
       "      <td>0.649970</td>\n",
       "      <td>0.683012</td>\n",
       "    </tr>\n",
       "    <tr>\n",
       "      <th>9</th>\n",
       "      <td>&lt;StanClasses.ARD_Factorizer object at 0x7f2b17...</td>\n",
       "      <td>{'n_components': 20}</td>\n",
       "      <td>6256.760215</td>\n",
       "      <td>0.632622</td>\n",
       "      <td>0.687372</td>\n",
       "    </tr>\n",
       "    <tr>\n",
       "      <th>3</th>\n",
       "      <td>&lt;StanClasses.NonNegativeFactorizer object at 0...</td>\n",
       "      <td>{'n_components': 15}</td>\n",
       "      <td>2177.143758</td>\n",
       "      <td>0.632095</td>\n",
       "      <td>0.693943</td>\n",
       "    </tr>\n",
       "    <tr>\n",
       "      <th>6</th>\n",
       "      <td>&lt;StanClasses.NormalFactorizer object at 0x7f2b...</td>\n",
       "      <td>{'n_components': 5}</td>\n",
       "      <td>4159.630697</td>\n",
       "      <td>0.628486</td>\n",
       "      <td>0.699467</td>\n",
       "    </tr>\n",
       "    <tr>\n",
       "      <th>8</th>\n",
       "      <td>&lt;StanClasses.ARD_Factorizer object at 0x7f2b17...</td>\n",
       "      <td>{'n_components': 15}</td>\n",
       "      <td>5380.681895</td>\n",
       "      <td>0.598903</td>\n",
       "      <td>0.707043</td>\n",
       "    </tr>\n",
       "    <tr>\n",
       "      <th>2</th>\n",
       "      <td>&lt;StanClasses.NonNegativeFactorizer object at 0...</td>\n",
       "      <td>{'n_components': 10}</td>\n",
       "      <td>1982.613290</td>\n",
       "      <td>0.605457</td>\n",
       "      <td>0.711533</td>\n",
       "    </tr>\n",
       "    <tr>\n",
       "      <th>4</th>\n",
       "      <td>&lt;StanClasses.NonNegativeFactorizer object at 0...</td>\n",
       "      <td>{'n_components': 20}</td>\n",
       "      <td>2594.418423</td>\n",
       "      <td>0.592572</td>\n",
       "      <td>0.723877</td>\n",
       "    </tr>\n",
       "    <tr>\n",
       "      <th>10</th>\n",
       "      <td>&lt;StanClasses.ARD_Factorizer object at 0x7f2b16...</td>\n",
       "      <td>{'n_components': 3}</td>\n",
       "      <td>6514.166563</td>\n",
       "      <td>0.576058</td>\n",
       "      <td>0.725964</td>\n",
       "    </tr>\n",
       "    <tr>\n",
       "      <th>5</th>\n",
       "      <td>&lt;StanClasses.NonNegativeFactorizer object at 0...</td>\n",
       "      <td>{'n_components': 3}</td>\n",
       "      <td>3129.175633</td>\n",
       "      <td>0.591915</td>\n",
       "      <td>0.728334</td>\n",
       "    </tr>\n",
       "    <tr>\n",
       "      <th>11</th>\n",
       "      <td>&lt;StanClasses.ARD_Factorizer object at 0x7f2b16...</td>\n",
       "      <td>{'n_components': 5}</td>\n",
       "      <td>7254.766238</td>\n",
       "      <td>0.558482</td>\n",
       "      <td>0.739995</td>\n",
       "    </tr>\n",
       "    <tr>\n",
       "      <th>12</th>\n",
       "      <td>&lt;StanClasses.NormalFactorizer object at 0x7f2b...</td>\n",
       "      <td>{'n_components': 10}</td>\n",
       "      <td>15866.037944</td>\n",
       "      <td>0.585908</td>\n",
       "      <td>0.749571</td>\n",
       "    </tr>\n",
       "    <tr>\n",
       "      <th>13</th>\n",
       "      <td>&lt;StanClasses.NormalFactorizer object at 0x7f2b...</td>\n",
       "      <td>{'n_components': 15}</td>\n",
       "      <td>35323.231872</td>\n",
       "      <td>0.550455</td>\n",
       "      <td>0.802602</td>\n",
       "    </tr>\n",
       "    <tr>\n",
       "      <th>14</th>\n",
       "      <td>&lt;StanClasses.NormalFactorizer object at 0x7f2b...</td>\n",
       "      <td>{'n_components': 20}</td>\n",
       "      <td>35803.315982</td>\n",
       "      <td>0.516668</td>\n",
       "      <td>0.855096</td>\n",
       "    </tr>\n",
       "  </tbody>\n",
       "</table>\n",
       "</div>"
      ],
      "text/plain": [
       "                                                model                params  \\\n",
       "7   <StanClasses.ARD_Factorizer object at 0x7f2b58...  {'n_components': 10}   \n",
       "1   <StanClasses.NormalFactorizer object at 0x7f2b...   {'n_components': 5}   \n",
       "0   <StanClasses.NonNegativeFactorizer object at 0...   {'n_components': 3}   \n",
       "9   <StanClasses.ARD_Factorizer object at 0x7f2b17...  {'n_components': 20}   \n",
       "3   <StanClasses.NonNegativeFactorizer object at 0...  {'n_components': 15}   \n",
       "6   <StanClasses.NormalFactorizer object at 0x7f2b...   {'n_components': 5}   \n",
       "8   <StanClasses.ARD_Factorizer object at 0x7f2b17...  {'n_components': 15}   \n",
       "2   <StanClasses.NonNegativeFactorizer object at 0...  {'n_components': 10}   \n",
       "4   <StanClasses.NonNegativeFactorizer object at 0...  {'n_components': 20}   \n",
       "10  <StanClasses.ARD_Factorizer object at 0x7f2b16...   {'n_components': 3}   \n",
       "5   <StanClasses.NonNegativeFactorizer object at 0...   {'n_components': 3}   \n",
       "11  <StanClasses.ARD_Factorizer object at 0x7f2b16...   {'n_components': 5}   \n",
       "12  <StanClasses.NormalFactorizer object at 0x7f2b...  {'n_components': 10}   \n",
       "13  <StanClasses.NormalFactorizer object at 0x7f2b...  {'n_components': 15}   \n",
       "14  <StanClasses.NormalFactorizer object at 0x7f2b...  {'n_components': 20}   \n",
       "\n",
       "        fit_time  train_mae   val_mae  \n",
       "7    5140.227147   0.650904  0.682541  \n",
       "1    1559.373360   0.648885  0.682633  \n",
       "0    1523.805643   0.649970  0.683012  \n",
       "9    6256.760215   0.632622  0.687372  \n",
       "3    2177.143758   0.632095  0.693943  \n",
       "6    4159.630697   0.628486  0.699467  \n",
       "8    5380.681895   0.598903  0.707043  \n",
       "2    1982.613290   0.605457  0.711533  \n",
       "4    2594.418423   0.592572  0.723877  \n",
       "10   6514.166563   0.576058  0.725964  \n",
       "5    3129.175633   0.591915  0.728334  \n",
       "11   7254.766238   0.558482  0.739995  \n",
       "12  15866.037944   0.585908  0.749571  \n",
       "13  35323.231872   0.550455  0.802602  \n",
       "14  35803.315982   0.516668  0.855096  "
      ]
     },
     "execution_count": 11,
     "metadata": {},
     "output_type": "execute_result"
    }
   ],
   "source": [
    "df_hist"
   ]
  },
  {
   "cell_type": "code",
   "execution_count": 12,
   "metadata": {},
   "outputs": [
    {
     "data": {
      "text/html": [
       "<div>\n",
       "<style scoped>\n",
       "    .dataframe tbody tr th:only-of-type {\n",
       "        vertical-align: middle;\n",
       "    }\n",
       "\n",
       "    .dataframe tbody tr th {\n",
       "        vertical-align: top;\n",
       "    }\n",
       "\n",
       "    .dataframe thead th {\n",
       "        text-align: right;\n",
       "    }\n",
       "</style>\n",
       "<table border=\"1\" class=\"dataframe\">\n",
       "  <thead>\n",
       "    <tr style=\"text-align: right;\">\n",
       "      <th></th>\n",
       "      <th>model</th>\n",
       "      <th>params</th>\n",
       "      <th>fit_time</th>\n",
       "      <th>train_mae</th>\n",
       "      <th>val_mae</th>\n",
       "    </tr>\n",
       "  </thead>\n",
       "  <tbody>\n",
       "    <tr>\n",
       "      <th>7</th>\n",
       "      <td>&lt;StanClasses.ARD_Factorizer object at 0x7f2b58...</td>\n",
       "      <td>{'n_components': 10}</td>\n",
       "      <td>5140.227147</td>\n",
       "      <td>0.650904</td>\n",
       "      <td>0.682541</td>\n",
       "    </tr>\n",
       "    <tr>\n",
       "      <th>1</th>\n",
       "      <td>&lt;StanClasses.NormalFactorizer object at 0x7f2b...</td>\n",
       "      <td>{'n_components': 5}</td>\n",
       "      <td>1559.373360</td>\n",
       "      <td>0.648885</td>\n",
       "      <td>0.682633</td>\n",
       "    </tr>\n",
       "    <tr>\n",
       "      <th>0</th>\n",
       "      <td>&lt;StanClasses.NonNegativeFactorizer object at 0...</td>\n",
       "      <td>{'n_components': 3}</td>\n",
       "      <td>1523.805643</td>\n",
       "      <td>0.649970</td>\n",
       "      <td>0.683012</td>\n",
       "    </tr>\n",
       "    <tr>\n",
       "      <th>9</th>\n",
       "      <td>&lt;StanClasses.ARD_Factorizer object at 0x7f2b17...</td>\n",
       "      <td>{'n_components': 20}</td>\n",
       "      <td>6256.760215</td>\n",
       "      <td>0.632622</td>\n",
       "      <td>0.687372</td>\n",
       "    </tr>\n",
       "    <tr>\n",
       "      <th>3</th>\n",
       "      <td>&lt;StanClasses.NonNegativeFactorizer object at 0...</td>\n",
       "      <td>{'n_components': 15}</td>\n",
       "      <td>2177.143758</td>\n",
       "      <td>0.632095</td>\n",
       "      <td>0.693943</td>\n",
       "    </tr>\n",
       "    <tr>\n",
       "      <th>6</th>\n",
       "      <td>&lt;StanClasses.NormalFactorizer object at 0x7f2b...</td>\n",
       "      <td>{'n_components': 5}</td>\n",
       "      <td>4159.630697</td>\n",
       "      <td>0.628486</td>\n",
       "      <td>0.699467</td>\n",
       "    </tr>\n",
       "    <tr>\n",
       "      <th>8</th>\n",
       "      <td>&lt;StanClasses.ARD_Factorizer object at 0x7f2b17...</td>\n",
       "      <td>{'n_components': 15}</td>\n",
       "      <td>5380.681895</td>\n",
       "      <td>0.598903</td>\n",
       "      <td>0.707043</td>\n",
       "    </tr>\n",
       "    <tr>\n",
       "      <th>2</th>\n",
       "      <td>&lt;StanClasses.NonNegativeFactorizer object at 0...</td>\n",
       "      <td>{'n_components': 10}</td>\n",
       "      <td>1982.613290</td>\n",
       "      <td>0.605457</td>\n",
       "      <td>0.711533</td>\n",
       "    </tr>\n",
       "    <tr>\n",
       "      <th>4</th>\n",
       "      <td>&lt;StanClasses.NonNegativeFactorizer object at 0...</td>\n",
       "      <td>{'n_components': 20}</td>\n",
       "      <td>2594.418423</td>\n",
       "      <td>0.592572</td>\n",
       "      <td>0.723877</td>\n",
       "    </tr>\n",
       "    <tr>\n",
       "      <th>10</th>\n",
       "      <td>&lt;StanClasses.ARD_Factorizer object at 0x7f2b16...</td>\n",
       "      <td>{'n_components': 3}</td>\n",
       "      <td>6514.166563</td>\n",
       "      <td>0.576058</td>\n",
       "      <td>0.725964</td>\n",
       "    </tr>\n",
       "    <tr>\n",
       "      <th>5</th>\n",
       "      <td>&lt;StanClasses.NonNegativeFactorizer object at 0...</td>\n",
       "      <td>{'n_components': 3}</td>\n",
       "      <td>3129.175633</td>\n",
       "      <td>0.591915</td>\n",
       "      <td>0.728334</td>\n",
       "    </tr>\n",
       "    <tr>\n",
       "      <th>11</th>\n",
       "      <td>&lt;StanClasses.ARD_Factorizer object at 0x7f2b16...</td>\n",
       "      <td>{'n_components': 5}</td>\n",
       "      <td>7254.766238</td>\n",
       "      <td>0.558482</td>\n",
       "      <td>0.739995</td>\n",
       "    </tr>\n",
       "    <tr>\n",
       "      <th>12</th>\n",
       "      <td>&lt;StanClasses.NormalFactorizer object at 0x7f2b...</td>\n",
       "      <td>{'n_components': 10}</td>\n",
       "      <td>15866.037944</td>\n",
       "      <td>0.585908</td>\n",
       "      <td>0.749571</td>\n",
       "    </tr>\n",
       "    <tr>\n",
       "      <th>13</th>\n",
       "      <td>&lt;StanClasses.NormalFactorizer object at 0x7f2b...</td>\n",
       "      <td>{'n_components': 15}</td>\n",
       "      <td>35323.231872</td>\n",
       "      <td>0.550455</td>\n",
       "      <td>0.802602</td>\n",
       "    </tr>\n",
       "    <tr>\n",
       "      <th>14</th>\n",
       "      <td>&lt;StanClasses.NormalFactorizer object at 0x7f2b...</td>\n",
       "      <td>{'n_components': 20}</td>\n",
       "      <td>35803.315982</td>\n",
       "      <td>0.516668</td>\n",
       "      <td>0.855096</td>\n",
       "    </tr>\n",
       "  </tbody>\n",
       "</table>\n",
       "</div>"
      ],
      "text/plain": [
       "                                                model                params  \\\n",
       "7   <StanClasses.ARD_Factorizer object at 0x7f2b58...  {'n_components': 10}   \n",
       "1   <StanClasses.NormalFactorizer object at 0x7f2b...   {'n_components': 5}   \n",
       "0   <StanClasses.NonNegativeFactorizer object at 0...   {'n_components': 3}   \n",
       "9   <StanClasses.ARD_Factorizer object at 0x7f2b17...  {'n_components': 20}   \n",
       "3   <StanClasses.NonNegativeFactorizer object at 0...  {'n_components': 15}   \n",
       "6   <StanClasses.NormalFactorizer object at 0x7f2b...   {'n_components': 5}   \n",
       "8   <StanClasses.ARD_Factorizer object at 0x7f2b17...  {'n_components': 15}   \n",
       "2   <StanClasses.NonNegativeFactorizer object at 0...  {'n_components': 10}   \n",
       "4   <StanClasses.NonNegativeFactorizer object at 0...  {'n_components': 20}   \n",
       "10  <StanClasses.ARD_Factorizer object at 0x7f2b16...   {'n_components': 3}   \n",
       "5   <StanClasses.NonNegativeFactorizer object at 0...   {'n_components': 3}   \n",
       "11  <StanClasses.ARD_Factorizer object at 0x7f2b16...   {'n_components': 5}   \n",
       "12  <StanClasses.NormalFactorizer object at 0x7f2b...  {'n_components': 10}   \n",
       "13  <StanClasses.NormalFactorizer object at 0x7f2b...  {'n_components': 15}   \n",
       "14  <StanClasses.NormalFactorizer object at 0x7f2b...  {'n_components': 20}   \n",
       "\n",
       "        fit_time  train_mae   val_mae  \n",
       "7    5140.227147   0.650904  0.682541  \n",
       "1    1559.373360   0.648885  0.682633  \n",
       "0    1523.805643   0.649970  0.683012  \n",
       "9    6256.760215   0.632622  0.687372  \n",
       "3    2177.143758   0.632095  0.693943  \n",
       "6    4159.630697   0.628486  0.699467  \n",
       "8    5380.681895   0.598903  0.707043  \n",
       "2    1982.613290   0.605457  0.711533  \n",
       "4    2594.418423   0.592572  0.723877  \n",
       "10   6514.166563   0.576058  0.725964  \n",
       "5    3129.175633   0.591915  0.728334  \n",
       "11   7254.766238   0.558482  0.739995  \n",
       "12  15866.037944   0.585908  0.749571  \n",
       "13  35323.231872   0.550455  0.802602  \n",
       "14  35803.315982   0.516668  0.855096  "
      ]
     },
     "execution_count": 12,
     "metadata": {},
     "output_type": "execute_result"
    }
   ],
   "source": [
    "df_hist"
   ]
  },
  {
   "cell_type": "code",
   "execution_count": 13,
   "metadata": {},
   "outputs": [
    {
     "name": "stdout",
     "output_type": "stream",
     "text": [
      "ARD_Factorizer 0.9979980016964524 1.6704661137031347 1.0591396312384707 0.08839714487024494\n",
      "NormalFactorizer 0.9979983129549672 2.904610329928807 1.3045865701395891 0.3848242559637333\n",
      "NonNegativeFactorizer 0.9979979975340515 1.0400777814262623 1.0004943601970058 0.0035423251358299404\n",
      "ARD_Factorizer 0.9979980195065529 2.1999019804087583 1.202425244264142 0.2846879182108176\n",
      "NonNegativeFactorizer 0.9979979964251299 1.420034861099358 1.0186603114610906 0.03504577307427713\n",
      "NormalFactorizer 0.9979990405774218 2.2997491784378723 1.3073042118457037 0.2547693294324264\n",
      "ARD_Factorizer 0.9979979970391538 2.3787385408611543 1.1465479575122162 0.1996346108499034\n",
      "NonNegativeFactorizer 0.9979979959901097 1.5442107711582236 1.0210021551505217 0.04157297462902059\n",
      "NonNegativeFactorizer 0.9979979960225032 1.8263822228587796 1.0311574097056357 0.06772603625535772\n",
      "ARD_Factorizer 0.9979979962043851 2.1073197037389924 1.070972184761609 0.1019308766152477\n",
      "NonNegativeFactorizer 0.9979979960030698 2.479752640166802 1.0395093440531524 0.07861797709025992\n",
      "ARD_Factorizer 0.9979979960238946 1.8041346538631073 1.0410332246159237 0.06497859220143103\n",
      "NormalFactorizer 0.9979979964859901 1.239886402039235 1.0312285836118533 0.04188667424247026\n",
      "NormalFactorizer 0.9979979964099482 1.050127216220901 1.002059994731899 0.006220374481189271\n",
      "NormalFactorizer 0.9979979985738321 1.0396967465176246 1.0009763497390511 0.00419173023911464\n"
     ]
    }
   ],
   "source": [
    "for model in df_hist['model']:\n",
    "    summary = model.stanfit.summary()['summary']\n",
    "    print(type(model).__name__, summary[:,-1].min(), summary[:,-1].max(), summary[:,-1].mean(), summary[:,-1].std())"
   ]
  },
  {
   "cell_type": "code",
   "execution_count": 14,
   "metadata": {},
   "outputs": [
    {
     "data": {
      "text/plain": [
       "8977.689910523097"
      ]
     },
     "execution_count": 14,
     "metadata": {},
     "output_type": "execute_result"
    }
   ],
   "source": [
    "df_hist.fit_time.mean()"
   ]
  },
  {
   "cell_type": "code",
   "execution_count": 15,
   "metadata": {},
   "outputs": [],
   "source": [
    "best_params.update(static_kwargs)\n",
    "final_model = type(best_model)(**best_params)"
   ]
  },
  {
   "cell_type": "code",
   "execution_count": 16,
   "metadata": {},
   "outputs": [],
   "source": [
    "df_full, _, _ = utils.get_ml100k_data(DATA_DIR)\n",
    "df_full[['user_id', 'item_id']] -= 1\n",
    "\n",
    "# We are not going to use timestamp, therefore drop it\n",
    "df_full.drop('timestamp', axis='columns', inplace=True)\n",
    "\n",
    "df_full_train, df_test = train_test_split(df_full, test_size=0.05, random_state=seed)"
   ]
  },
  {
   "cell_type": "code",
   "execution_count": 17,
   "metadata": {},
   "outputs": [],
   "source": [
    "# final_model.fit(df_full_train)"
   ]
  },
  {
   "cell_type": "code",
   "execution_count": 18,
   "metadata": {},
   "outputs": [],
   "source": [
    "with open('final_dict.pkl', 'rb') as f:\n",
    "    final_dict = pickle.load(f)"
   ]
  },
  {
   "cell_type": "code",
   "execution_count": 19,
   "metadata": {},
   "outputs": [
    {
     "data": {
      "text/plain": [
       "{'model': <StanClasses.ARD_Factorizer at 0x7f2b18c9bf28>,\n",
       " 'params': {'n_components': 10,\n",
       "  'chains': 1,\n",
       "  'iter': 1000,\n",
       "  'control': {'max_treedepth': 15}},\n",
       " 'fit_time': 77645.62998747826,\n",
       " 'train_mae': 0.6267519055847237,\n",
       " 'test_mae': 0.7625644897334257}"
      ]
     },
     "execution_count": 19,
     "metadata": {},
     "output_type": "execute_result"
    }
   ],
   "source": [
    "final_dict"
   ]
  },
  {
   "cell_type": "code",
   "execution_count": 20,
   "metadata": {},
   "outputs": [
    {
     "data": {
      "text/plain": [
       "Index(['model', 'params', 'fit_time', 'train_mae', 'val_mae'], dtype='object')"
      ]
     },
     "execution_count": 20,
     "metadata": {},
     "output_type": "execute_result"
    }
   ],
   "source": [
    "df_hist.columns"
   ]
  },
  {
   "cell_type": "code",
   "execution_count": 21,
   "metadata": {},
   "outputs": [],
   "source": [
    "# final_model_object, fit_time, train_mae, test_mae =\\\n",
    "#     utils.fit_and_evaluate((type(best_model), best_params, df_full_train, df_test))\n",
    "\n",
    "# hist2 = {\n",
    "#     'model':final_model_object,\n",
    "#     'params':best_params,\n",
    "#     'fit_time':fit_time,\n",
    "#     'train_mae':train_mae,\n",
    "#     'test_mae':test_mae\n",
    "# }"
   ]
  },
  {
   "cell_type": "code",
   "execution_count": 22,
   "metadata": {},
   "outputs": [
    {
     "data": {
      "image/png": "[encoded data removed]",
      "text/plain": [
       "<Figure size 720x360 with 1 Axes>"
      ]
     },
     "metadata": {
      "needs_background": "light"
     },
     "output_type": "display_data"
    }
   ],
   "source": [
    "def ci_df(self, df):\n",
    "    fig, ax = plt.subplots(figsize=(10,5))\n",
    "    self.ci(row_inds=df.user_id, col_inds=df.item_id, plot=True, zorder=0, ax=ax, \n",
    "       c='firebrick', ecolor='goldenrod')\n",
    "    ax.scatter(range(len(df)), df.rating, c='orangered', zorder=1)\n",
    "    plt.show()\n",
    "\n",
    "ci_df(df_hist['model'][0], df_train.sample(n=100).sort_values('rating'))"
   ]
  },
  {
   "cell_type": "markdown",
   "metadata": {},
   "source": [
    "<br>\n",
    "<br>\n",
    "<br>\n",
    "<br>\n",
    "<br>\n",
    "<br>\n",
    "<br>\n",
    "<br>\n",
    "<br>\n",
    "<br>\n",
    "<br>\n",
    "<br>\n",
    "<br>\n",
    "<br>\n",
    "<br>\n",
    "<br>\n",
    "<br>\n",
    "<br>\n",
    "<br>\n",
    "<br>\n",
    "<br>\n",
    "<br>\n",
    "<br>\n",
    "<br>\n",
    "<br>\n",
    "<br>\n",
    "<br>\n",
    "<br>\n",
    "<br>\n",
    "<br>"
   ]
  },
  {
   "cell_type": "markdown",
   "metadata": {},
   "source": [
    "# Test Place"
   ]
  },
  {
   "cell_type": "code",
   "execution_count": 23,
   "metadata": {},
   "outputs": [
    {
     "name": "stdout",
     "output_type": "stream",
     "text": [
      "1 0.5\n"
     ]
    },
    {
     "data": {
      "image/png": "[encoded data removed]",
      "text/plain": [
       "<Figure size 432x288 with 1 Axes>"
      ]
     },
     "metadata": {
      "needs_background": "light"
     },
     "output_type": "display_data"
    },
    {
     "name": "stdout",
     "output_type": "stream",
     "text": [
      "2 8\n"
     ]
    },
    {
     "data": {
      "image/png": "[encoded data removed]",
      "text/plain": [
       "<Figure size 432x288 with 1 Axes>"
      ]
     },
     "metadata": {
      "needs_background": "light"
     },
     "output_type": "display_data"
    },
    {
     "name": "stdout",
     "output_type": "stream",
     "text": [
      "1 0.08\n"
     ]
    },
    {
     "data": {
      "image/png": "[encoded data removed]",
      "text/plain": [
       "<Figure size 432x288 with 1 Axes>"
      ]
     },
     "metadata": {
      "needs_background": "light"
     },
     "output_type": "display_data"
    }
   ],
   "source": [
    "xrange = np.linspace(-0.5,4,1000)\n",
    "\n",
    "a = 1\n",
    "b = 0.5*a\n",
    "y = stats.gamma.pdf(xrange, a=a, scale=1/b)\n",
    "print(a, b)\n",
    "plt.plot(xrange, y)\n",
    "plt.show()\n",
    "\n",
    "a = 2\n",
    "b = 4*a\n",
    "y = stats.gamma.pdf(xrange, a=a, scale=1/b)\n",
    "print(a, b)\n",
    "plt.plot(xrange, y)\n",
    "plt.show()\n",
    "\n",
    "a = 1\n",
    "b = 0.08*a\n",
    "y = stats.gamma.pdf(xrange, a=a, scale=1/b)\n",
    "print(a, b)\n",
    "plt.plot(xrange, y)\n",
    "# plt.axvline(((a-1)/b/(a-1)))\n",
    "plt.show()"
   ]
  },
  {
   "cell_type": "code",
   "execution_count": 24,
   "metadata": {},
   "outputs": [
    {
     "ename": "ValueError",
     "evalue": "",
     "output_type": "error",
     "traceback": [
      "\u001b[0;31m---------------------------------------------------------------------------\u001b[0m",
      "\u001b[0;31mValueError\u001b[0m                                Traceback (most recent call last)",
      "\u001b[0;32m<ipython-input-24-e4c8e09828d5>\u001b[0m in \u001b[0;36m<module>\u001b[0;34m\u001b[0m\n\u001b[0;32m----> 1\u001b[0;31m \u001b[0;32mraise\u001b[0m \u001b[0mValueError\u001b[0m\u001b[0;34m\u001b[0m\u001b[0;34m\u001b[0m\u001b[0m\n\u001b[0m",
      "\u001b[0;31mValueError\u001b[0m: "
     ]
    }
   ],
   "source": [
    "raise ValueError"
   ]
  },
  {
   "cell_type": "code",
   "execution_count": null,
   "metadata": {},
   "outputs": [],
   "source": [
    "sm_test_code = utils.get_stan_code('sanity.stan')\n",
    "sm_test = utils.StanModel_cache(sm_test_code, 'test')"
   ]
  },
  {
   "cell_type": "code",
   "execution_count": null,
   "metadata": {},
   "outputs": [],
   "source": [
    "fit_test = sm_test.sampling(algorithm=\"Fixed_param\", chains=4, n_jobs=-1, iter=10)"
   ]
  },
  {
   "cell_type": "code",
   "execution_count": null,
   "metadata": {},
   "outputs": [],
   "source": [
    "A = np.array([[0.674531,0.560879],[-1.82799,0.0132566]])"
   ]
  },
  {
   "cell_type": "code",
   "execution_count": null,
   "metadata": {},
   "outputs": [],
   "source": [
    "A@A"
   ]
  },
  {
   "cell_type": "code",
   "execution_count": null,
   "metadata": {},
   "outputs": [],
   "source": [
    "X_ = "
   ]
  }
 ],
 "metadata": {
  "kernelspec": {
   "display_name": "Python 3",
   "language": "python",
   "name": "python3"
  },
  "language_info": {
   "codemirror_mode": {
    "name": "ipython",
    "version": 3
   },
   "file_extension": ".py",
   "mimetype": "text/x-python",
   "name": "python",
   "nbconvert_exporter": "python",
   "pygments_lexer": "ipython3",
   "version": "3.6.9"
  }
 },
 "nbformat": 4,
 "nbformat_minor": 4
}
