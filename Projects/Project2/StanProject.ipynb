{
 "cells": [
  {
   "cell_type": "code",
   "execution_count": 1,
   "metadata": {},
   "outputs": [],
   "source": [
    "import numpy as np\n",
    "seed = 42069\n",
    "np.random.seed(seed)\n",
    "import pandas as pd\n",
    "from matplotlib import pyplot as plt\n",
    "import arviz\n",
    "import pystan\n",
    "from scipy import sparse, stats\n",
    "from typing import Iterable, Union, Callable\n",
    "from sklearn.model_selection import train_test_split, ParameterGrid\n",
    "import altair as alt\n",
    "from time import time, sleep\n",
    "from tqdm import tqdm\n",
    "from multiprocessing import Pool\n",
    "import pickle\n",
    "import re\n",
    "\n",
    "# Own files\n",
    "import utils \n",
    "import StanClasses"
   ]
  },
  {
   "cell_type": "markdown",
   "metadata": {},
   "source": [
    "# Load and preprocess data"
   ]
  },
  {
   "cell_type": "markdown",
   "metadata": {},
   "source": [
    "The data we have is essentially a matrix, where the each row correspond to a person, and each column correspond to a movie. However, the matrix is very sparse and thus data is stored in sparse format (i.e. specified with indices and the corresponding values). "
   ]
  },
  {
   "cell_type": "code",
   "execution_count": 2,
   "metadata": {},
   "outputs": [],
   "source": [
    "# Define constants\n",
    "DATA_DIR = 'ml-100k'"
   ]
  },
  {
   "cell_type": "code",
   "execution_count": 3,
   "metadata": {},
   "outputs": [],
   "source": [
    "df, _, _ = utils.get_ml100k_data(DATA_DIR, subsample_top_users=250, subsample_top_items=250)\n",
    "df[['user_id', 'item_id']] -= 1\n",
    "\n",
    "# We are not going to use timestamp, therefore drop it\n",
    "df.drop('timestamp', axis='columns', inplace=True)"
   ]
  },
  {
   "cell_type": "markdown",
   "metadata": {},
   "source": [
    "The user ids and item (movie) ids are essentially integer ranges, starting from and 1 to the number of users and items respectively. We don't have the all the unique ids when subsampling users and movies. It becomes problematic ... TODO: Write this"
   ]
  },
  {
   "cell_type": "code",
   "execution_count": 4,
   "metadata": {},
   "outputs": [],
   "source": [
    "def column_relabler(df: pd.DataFrame, column: str):\n",
    "    uniques = pd.value_counts(df[column], sort=False).index.values\n",
    "    n_uniques = len(uniques)\n",
    "\n",
    "    num2id = {num_:id_ for num_, id_ in zip(range(0, n_uniques), uniques)}\n",
    "    id2num = {id_:num_ for num_, id_ in zip(range(0, n_uniques), uniques)}\n",
    "    \n",
    "    df[column] = df[column].map(id2num)\n",
    "    return id2num, num2id\n",
    "\n",
    "df_num = df.copy()\n",
    "user2num, num2user = column_relabler(df_num, 'user_id')\n",
    "item2num, num2item = column_relabler(df_num, 'item_id')\n",
    "\n",
    "# p, q represents shape of the matrix as if it was dense\n",
    "p, q = len(user2num), len(item2num)"
   ]
  },
  {
   "cell_type": "code",
   "execution_count": 5,
   "metadata": {},
   "outputs": [
    {
     "data": {
      "text/plain": [
       "0.49744"
      ]
     },
     "execution_count": 5,
     "metadata": {},
     "output_type": "execute_result"
    }
   ],
   "source": [
    "len(df_num)/(p*q)"
   ]
  },
  {
   "cell_type": "code",
   "execution_count": 6,
   "metadata": {},
   "outputs": [],
   "source": [
    "df_train, df_val = train_test_split(df_num, test_size=0.1, random_state=seed)"
   ]
  },
  {
   "cell_type": "code",
   "execution_count": 7,
   "metadata": {},
   "outputs": [
    {
     "name": "stdout",
     "output_type": "stream",
     "text": [
      "Dataframe dimensions:\n",
      "    df_train: (27981, 3)\n",
      "    df_val: (3109, 3)\n",
      "    \n"
     ]
    }
   ],
   "source": [
    "print(f'''Dataframe dimensions:\n",
    "    df_train: {df_train.shape}\n",
    "    df_val: {df_val.shape}\n",
    "    ''')"
   ]
  },
  {
   "cell_type": "markdown",
   "metadata": {},
   "source": [
    "# Matrix Factorization \n",
    "Want to factorize the dense matrix $X_{n\\times m} \\approx U_{n\\times k}V_{k\\times m}$, where the subscripts denotes matrix shapes. The $k$ dimension denotes the user specified embedding dimension. We use different probabilistic models for the components. \n"
   ]
  },
  {
   "cell_type": "markdown",
   "metadata": {},
   "source": [
    "## Model 1: Normal\n",
    "Not as simple as the simple model above, this is the analogous to the \"regular\" way when doing regression.\n",
    "\n",
    "$$ U_{ij} \\sim N(\\mu_U, \\sigma_U) $$\n",
    "$$ V_{ij} \\sim N(\\mu_V, \\sigma_V) $$\n",
    "$$ X_{ij}\\sim N((UV_{ij}), \\beta)$$\n",
    "$$ \\beta \\sim Gamma(a_\\beta, b_\\beta) $$\n",
    "\n",
    "User defined variables:\n",
    "$\\mu_U, \\sigma_U, \\mu_V, \\sigma_V, a_\\beta, b_\\beta$"
   ]
  },
  {
   "cell_type": "markdown",
   "metadata": {},
   "source": [
    "## Model 2: Non-negative Matrix Factorization\n",
    "\n",
    "$$ U_{ij}\\sim Gamma(a_U, b_U) $$\n",
    "$$ V_{ij}\\sim Gamma(a_V, b_V) $$\n",
    "$$ X_{ij}\\sim Normal((UV)_{ij}, \\beta)$$\n",
    "$$ \\beta \\sim Gamma(a_\\beta, b_\\beta) $$\n",
    "\n",
    "User defined variables:\n",
    "$a_U, b_U, a_V, b_V, a_\\beta, b_\\beta$"
   ]
  },
  {
   "cell_type": "markdown",
   "metadata": {},
   "source": [
    "## Model 3: ARD\n",
    "\n",
    "$$ U_{ij} \\sim N(\\mu_U, \\alpha_j) $$\n",
    "$$ V_{ij} \\sim N(\\mu_V, \\alpha_j) $$\n",
    "$$ X_{ij}\\sim N((UV)_{ij}, \\beta)$$\n",
    "$$ \\beta \\sim Gamma(a_\\beta, b_\\beta) $$\n",
    "$$ \\alpha_{j} \\sim Gamma(a_\\alpha, b_\\alpha) $$\n",
    "\n",
    "User defined variables:\n",
    "$\\mu_U, \\mu_V, a_\\alpha, b_\\alpha, a_\\beta, b_\\beta$"
   ]
  },
  {
   "cell_type": "code",
   "execution_count": 8,
   "metadata": {
    "scrolled": true
   },
   "outputs": [],
   "source": [
    "models = [\n",
    "    StanClasses.NormalFactorizer,\n",
    "    StanClasses.NonNegativeFactorizer,\n",
    "    StanClasses.ARD_Factorizer\n",
    "]\n",
    "\n",
    "init_kwargs = {'n_components':[3,5,10,15,20]}\n",
    "static_kwargs = {'chains':1, 'iter':1200, 'control':{'max_treedepth':15}}\n",
    "\n",
    "t0 = time()\n",
    "# hist = utils.fit_and_evaluate_models(\n",
    "#     models=models,\n",
    "#     X_train=df_train,\n",
    "#     X_val=df_val,\n",
    "#     candidate_kwargs=init_kwargs,\n",
    "#     static_kwargs=static_kwargs\n",
    "# )\n",
    "evaltime = time()-t0"
   ]
  },
  {
   "cell_type": "code",
   "execution_count": 9,
   "metadata": {},
   "outputs": [],
   "source": [
    "df_hist = pd.read_pickle('histpickle_withmodels5.pkl')\n",
    "df_hist.sort_values('val_mae', inplace=True)"
   ]
  },
  {
   "cell_type": "code",
   "execution_count": 10,
   "metadata": {},
   "outputs": [
    {
     "data": {
      "text/html": [
       "<div>\n",
       "<style scoped>\n",
       "    .dataframe tbody tr th:only-of-type {\n",
       "        vertical-align: middle;\n",
       "    }\n",
       "\n",
       "    .dataframe tbody tr th {\n",
       "        vertical-align: top;\n",
       "    }\n",
       "\n",
       "    .dataframe thead th {\n",
       "        text-align: right;\n",
       "    }\n",
       "</style>\n",
       "<table border=\"1\" class=\"dataframe\">\n",
       "  <thead>\n",
       "    <tr style=\"text-align: right;\">\n",
       "      <th></th>\n",
       "      <th>model</th>\n",
       "      <th>params</th>\n",
       "      <th>fit_time</th>\n",
       "      <th>train_mae</th>\n",
       "      <th>val_mae</th>\n",
       "    </tr>\n",
       "  </thead>\n",
       "  <tbody>\n",
       "    <tr>\n",
       "      <th>11</th>\n",
       "      <td>&lt;StanClasses.ARD_Factorizer object at 0x7f4681...</td>\n",
       "      <td>{'n_components': 3}</td>\n",
       "      <td>4748.817058</td>\n",
       "      <td>0.650973</td>\n",
       "      <td>0.682219</td>\n",
       "    </tr>\n",
       "    <tr>\n",
       "      <th>4</th>\n",
       "      <td>&lt;StanClasses.NonNegativeFactorizer object at 0...</td>\n",
       "      <td>{'n_components': 3}</td>\n",
       "      <td>2111.056670</td>\n",
       "      <td>0.649880</td>\n",
       "      <td>0.682658</td>\n",
       "    </tr>\n",
       "    <tr>\n",
       "      <th>8</th>\n",
       "      <td>&lt;StanClasses.NormalFactorizer object at 0x7f46...</td>\n",
       "      <td>{'n_components': 3}</td>\n",
       "      <td>3204.854954</td>\n",
       "      <td>0.648843</td>\n",
       "      <td>0.682682</td>\n",
       "    </tr>\n",
       "    <tr>\n",
       "      <th>13</th>\n",
       "      <td>&lt;StanClasses.ARD_Factorizer object at 0x7f4681...</td>\n",
       "      <td>{'n_components': 4}</td>\n",
       "      <td>5602.443820</td>\n",
       "      <td>0.641505</td>\n",
       "      <td>0.683162</td>\n",
       "    </tr>\n",
       "    <tr>\n",
       "      <th>3</th>\n",
       "      <td>&lt;StanClasses.NonNegativeFactorizer object at 0...</td>\n",
       "      <td>{'n_components': 2}</td>\n",
       "      <td>2071.670998</td>\n",
       "      <td>0.663008</td>\n",
       "      <td>0.684316</td>\n",
       "    </tr>\n",
       "    <tr>\n",
       "      <th>10</th>\n",
       "      <td>&lt;StanClasses.ARD_Factorizer object at 0x7f4680...</td>\n",
       "      <td>{'n_components': 2}</td>\n",
       "      <td>4142.784668</td>\n",
       "      <td>0.663512</td>\n",
       "      <td>0.684462</td>\n",
       "    </tr>\n",
       "    <tr>\n",
       "      <th>2</th>\n",
       "      <td>&lt;StanClasses.NormalFactorizer object at 0x7f46...</td>\n",
       "      <td>{'n_components': 2}</td>\n",
       "      <td>1749.650968</td>\n",
       "      <td>0.662816</td>\n",
       "      <td>0.685046</td>\n",
       "    </tr>\n",
       "    <tr>\n",
       "      <th>7</th>\n",
       "      <td>&lt;StanClasses.NonNegativeFactorizer object at 0...</td>\n",
       "      <td>{'n_components': 4}</td>\n",
       "      <td>2727.420982</td>\n",
       "      <td>0.640629</td>\n",
       "      <td>0.686005</td>\n",
       "    </tr>\n",
       "    <tr>\n",
       "      <th>14</th>\n",
       "      <td>&lt;StanClasses.ARD_Factorizer object at 0x7f4680...</td>\n",
       "      <td>{'n_components': 5}</td>\n",
       "      <td>5765.450424</td>\n",
       "      <td>0.632650</td>\n",
       "      <td>0.687617</td>\n",
       "    </tr>\n",
       "    <tr>\n",
       "      <th>9</th>\n",
       "      <td>&lt;StanClasses.NormalFactorizer object at 0x7f46...</td>\n",
       "      <td>{'n_components': 4}</td>\n",
       "      <td>3805.049401</td>\n",
       "      <td>0.638381</td>\n",
       "      <td>0.689962</td>\n",
       "    </tr>\n",
       "    <tr>\n",
       "      <th>5</th>\n",
       "      <td>&lt;StanClasses.NonNegativeFactorizer object at 0...</td>\n",
       "      <td>{'n_components': 5}</td>\n",
       "      <td>2528.138155</td>\n",
       "      <td>0.632096</td>\n",
       "      <td>0.693844</td>\n",
       "    </tr>\n",
       "    <tr>\n",
       "      <th>12</th>\n",
       "      <td>&lt;StanClasses.NormalFactorizer object at 0x7f46...</td>\n",
       "      <td>{'n_components': 5}</td>\n",
       "      <td>5514.916167</td>\n",
       "      <td>0.628281</td>\n",
       "      <td>0.699692</td>\n",
       "    </tr>\n",
       "    <tr>\n",
       "      <th>0</th>\n",
       "      <td>&lt;StanClasses.NormalFactorizer object at 0x7f46...</td>\n",
       "      <td>{'n_components': 1}</td>\n",
       "      <td>1099.454129</td>\n",
       "      <td>0.699053</td>\n",
       "      <td>0.708254</td>\n",
       "    </tr>\n",
       "    <tr>\n",
       "      <th>1</th>\n",
       "      <td>&lt;StanClasses.NonNegativeFactorizer object at 0...</td>\n",
       "      <td>{'n_components': 1}</td>\n",
       "      <td>1589.825808</td>\n",
       "      <td>0.699194</td>\n",
       "      <td>0.708425</td>\n",
       "    </tr>\n",
       "    <tr>\n",
       "      <th>6</th>\n",
       "      <td>&lt;StanClasses.ARD_Factorizer object at 0x7f4680...</td>\n",
       "      <td>{'n_components': 1}</td>\n",
       "      <td>2599.523978</td>\n",
       "      <td>0.699169</td>\n",
       "      <td>0.708436</td>\n",
       "    </tr>\n",
       "  </tbody>\n",
       "</table>\n",
       "</div>"
      ],
      "text/plain": [
       "                                                model               params  \\\n",
       "11  <StanClasses.ARD_Factorizer object at 0x7f4681...  {'n_components': 3}   \n",
       "4   <StanClasses.NonNegativeFactorizer object at 0...  {'n_components': 3}   \n",
       "8   <StanClasses.NormalFactorizer object at 0x7f46...  {'n_components': 3}   \n",
       "13  <StanClasses.ARD_Factorizer object at 0x7f4681...  {'n_components': 4}   \n",
       "3   <StanClasses.NonNegativeFactorizer object at 0...  {'n_components': 2}   \n",
       "10  <StanClasses.ARD_Factorizer object at 0x7f4680...  {'n_components': 2}   \n",
       "2   <StanClasses.NormalFactorizer object at 0x7f46...  {'n_components': 2}   \n",
       "7   <StanClasses.NonNegativeFactorizer object at 0...  {'n_components': 4}   \n",
       "14  <StanClasses.ARD_Factorizer object at 0x7f4680...  {'n_components': 5}   \n",
       "9   <StanClasses.NormalFactorizer object at 0x7f46...  {'n_components': 4}   \n",
       "5   <StanClasses.NonNegativeFactorizer object at 0...  {'n_components': 5}   \n",
       "12  <StanClasses.NormalFactorizer object at 0x7f46...  {'n_components': 5}   \n",
       "0   <StanClasses.NormalFactorizer object at 0x7f46...  {'n_components': 1}   \n",
       "1   <StanClasses.NonNegativeFactorizer object at 0...  {'n_components': 1}   \n",
       "6   <StanClasses.ARD_Factorizer object at 0x7f4680...  {'n_components': 1}   \n",
       "\n",
       "       fit_time  train_mae   val_mae  \n",
       "11  4748.817058   0.650973  0.682219  \n",
       "4   2111.056670   0.649880  0.682658  \n",
       "8   3204.854954   0.648843  0.682682  \n",
       "13  5602.443820   0.641505  0.683162  \n",
       "3   2071.670998   0.663008  0.684316  \n",
       "10  4142.784668   0.663512  0.684462  \n",
       "2   1749.650968   0.662816  0.685046  \n",
       "7   2727.420982   0.640629  0.686005  \n",
       "14  5765.450424   0.632650  0.687617  \n",
       "9   3805.049401   0.638381  0.689962  \n",
       "5   2528.138155   0.632096  0.693844  \n",
       "12  5514.916167   0.628281  0.699692  \n",
       "0   1099.454129   0.699053  0.708254  \n",
       "1   1589.825808   0.699194  0.708425  \n",
       "6   2599.523978   0.699169  0.708436  "
      ]
     },
     "execution_count": 10,
     "metadata": {},
     "output_type": "execute_result"
    }
   ],
   "source": [
    "df_hist"
   ]
  },
  {
   "cell_type": "code",
   "execution_count": 11,
   "metadata": {},
   "outputs": [],
   "source": [
    "best_model = df_hist['model'].values[0]\n",
    "best_params = df_hist['params'].values[0].copy()"
   ]
  },
  {
   "cell_type": "code",
   "execution_count": 12,
   "metadata": {},
   "outputs": [
    {
     "name": "stdout",
     "output_type": "stream",
     "text": [
      "<StanClasses.ARD_Factorizer object at 0x7f468100f128>\n",
      "{'n_components': 3}\n"
     ]
    }
   ],
   "source": [
    "print(best_model)\n",
    "print(best_params)"
   ]
  },
  {
   "cell_type": "code",
   "execution_count": 13,
   "metadata": {},
   "outputs": [
    {
     "name": "stdout",
     "output_type": "stream",
     "text": [
      "\\begin{tabular}{llrrrr}\n",
      "\\toprule\n",
      "{} &         model &  k &  train time (seconds) &  train MAE &  val MAE \\\\\n",
      "\\midrule\n",
      "1  &           ARD &  3 &             4748.8171 &     0.6510 &   0.6822 \\\\\n",
      "2  &  Non-negative &  3 &             2111.0567 &     0.6499 &   0.6827 \\\\\n",
      "3  &        Normal &  3 &             3204.8550 &     0.6488 &   0.6827 \\\\\n",
      "4  &           ARD &  4 &             5602.4438 &     0.6415 &   0.6832 \\\\\n",
      "5  &  Non-negative &  2 &             2071.6710 &     0.6630 &   0.6843 \\\\\n",
      "6  &           ARD &  2 &             4142.7847 &     0.6635 &   0.6845 \\\\\n",
      "7  &        Normal &  2 &             1749.6510 &     0.6628 &   0.6850 \\\\\n",
      "8  &  Non-negative &  4 &             2727.4210 &     0.6406 &   0.6860 \\\\\n",
      "9  &           ARD &  5 &             5765.4504 &     0.6327 &   0.6876 \\\\\n",
      "10 &        Normal &  4 &             3805.0494 &     0.6384 &   0.6900 \\\\\n",
      "11 &  Non-negative &  5 &             2528.1382 &     0.6321 &   0.6938 \\\\\n",
      "12 &        Normal &  5 &             5514.9162 &     0.6283 &   0.6997 \\\\\n",
      "13 &        Normal &  1 &             1099.4541 &     0.6991 &   0.7083 \\\\\n",
      "14 &  Non-negative &  1 &             1589.8258 &     0.6992 &   0.7084 \\\\\n",
      "15 &           ARD &  1 &             2599.5240 &     0.6992 &   0.7084 \\\\\n",
      "\\bottomrule\n",
      "\\end{tabular}\n",
      "\n"
     ]
    }
   ],
   "source": [
    "df_latex = df_hist.copy()\n",
    "df_latex['params'] = df_latex['model'].apply(lambda x: x.n_components)\n",
    "df_latex.rename(columns=\n",
    "    {'params':'k', 'fit_time':'train time (seconds)', 'train_mae':'train MAE', 'val_mae':'val MAE'},\n",
    "    inplace=True\n",
    ")\n",
    "df_latex['model'] = df_latex['model'].apply(lambda x: type(x).__name__)\n",
    "df_latex['model'] = df_latex['model'].map(\n",
    "    {'ARD_Factorizer':'ARD',\n",
    "     'NonNegativeFactorizer':'Non-negative',\n",
    "     'NormalFactorizer':'Normal'}\n",
    ")\n",
    "print(df_latex.set_index(pd.Series(range(1,16))).to_latex(float_format=lambda x: f'{x:.4f}'))"
   ]
  },
  {
   "cell_type": "code",
   "execution_count": 14,
   "metadata": {},
   "outputs": [
    {
     "name": "stderr",
     "output_type": "stream",
     "text": [
      "100%|██████████| 15/15 [00:56<00:00,  3.78s/it]\n"
     ]
    }
   ],
   "source": [
    "hist_check_rhat = {'model':[], 'k':[], 'Rhat min':[], 'Rhat max':[], 'Rhat mean':[], 'Rhat std':[]}\n",
    "hist_check_neff = {'model':[], 'k':[], 'Neff min':[], 'Neff max':[], 'Neff mean':[], 'Neff std':[]}\n",
    "\n",
    "for model in tqdm(df_hist['model']):\n",
    "    summary = model.stanfit.summary()\n",
    "    summary = summary['summary']\n",
    "    hist_check_rhat['model'].append(type(model).__name__)\n",
    "    hist_check_rhat['k'].append(model.n_components)\n",
    "    hist_check_rhat['Rhat min'].append(summary[:,-1].min())\n",
    "    hist_check_rhat['Rhat max'].append(summary[:,-1].max())\n",
    "    hist_check_rhat['Rhat mean'].append(summary[:,-1].mean())\n",
    "    hist_check_rhat['Rhat std'].append(summary[:,-1].std())\n",
    "    \n",
    "    hist_check_neff['model'].append(type(model).__name__)\n",
    "    hist_check_neff['k'].append(model.n_components)\n",
    "    hist_check_neff['Neff min'].append(summary[:,-2].min())\n",
    "    hist_check_neff['Neff max'].append(summary[:,-2].max())\n",
    "    hist_check_neff['Neff mean'].append(summary[:,-2].mean())\n",
    "    hist_check_neff['Neff std'].append(summary[:,-2].std())"
   ]
  },
  {
   "cell_type": "code",
   "execution_count": 15,
   "metadata": {},
   "outputs": [],
   "source": [
    "df_rhat = pd.DataFrame(hist_check_rhat)\n",
    "df_neff = pd.DataFrame(hist_check_neff)"
   ]
  },
  {
   "cell_type": "code",
   "execution_count": 16,
   "metadata": {},
   "outputs": [
    {
     "name": "stdout",
     "output_type": "stream",
     "text": [
      "\\begin{tabular}{llrrrrr}\n",
      "\\toprule\n",
      "{} &         model &  k &  Rhat min &  Rhat max &  Rhat mean &  Rhat std \\\\\n",
      "\\midrule\n",
      "1  &           ARD &  3 &    0.9990 &    1.3138 &     1.0411 &    0.0887 \\\\\n",
      "2  &  Non-negative &  3 &    0.9990 &    1.0338 &     1.0032 &    0.0055 \\\\\n",
      "3  &        Normal &  3 &    0.9990 &    2.1189 &     1.2102 &    0.2135 \\\\\n",
      "4  &           ARD &  4 &    0.9990 &    1.3835 &     1.0594 &    0.0971 \\\\\n",
      "5  &  Non-negative &  2 &    0.9990 &    1.0250 &     1.0026 &    0.0044 \\\\\n",
      "6  &           ARD &  2 &    0.9990 &    1.2645 &     1.0478 &    0.0788 \\\\\n",
      "7  &        Normal &  2 &    0.9990 &    1.3543 &     1.0640 &    0.0827 \\\\\n",
      "8  &  Non-negative &  4 &    0.9990 &    1.0730 &     1.0052 &    0.0092 \\\\\n",
      "9  &           ARD &  5 &    0.9990 &    2.2013 &     1.1479 &    0.2843 \\\\\n",
      "10 &        Normal &  4 &    0.9990 &    2.4649 &     1.3759 &    0.3153 \\\\\n",
      "11 &  Non-negative &  5 &    0.9990 &    1.1202 &     1.0072 &    0.0126 \\\\\n",
      "12 &        Normal &  5 &    0.9990 &    1.9551 &     1.2106 &    0.2251 \\\\\n",
      "13 &        Normal &  1 &    0.9994 &    1.1562 &     1.0909 &    0.0238 \\\\\n",
      "14 &  Non-negative &  1 &    0.9991 &    1.2715 &     1.1814 &    0.0382 \\\\\n",
      "15 &           ARD &  1 &    1.0024 &    1.5671 &     1.2801 &    0.1115 \\\\\n",
      "\\bottomrule\n",
      "\\end{tabular}\n",
      "\n"
     ]
    }
   ],
   "source": [
    "df_rhat['model'] = df_rhat['model'].map(\n",
    "    {'ARD_Factorizer':'ARD',\n",
    "     'NonNegativeFactorizer':'Non-negative',\n",
    "     'NormalFactorizer':'Normal'}\n",
    ")\n",
    "print(df_rhat.set_index(pd.Series(range(1,16))).to_latex(float_format=lambda x: f'{x:.4f}'))"
   ]
  },
  {
   "cell_type": "code",
   "execution_count": 17,
   "metadata": {},
   "outputs": [
    {
     "name": "stdout",
     "output_type": "stream",
     "text": [
      "\\begin{tabular}{llrrrrr}\n",
      "\\toprule\n",
      "{} &         model &  k &  Neff min &  Neff max &  Neff mean &  Neff std \\\\\n",
      "\\midrule\n",
      "1  &           ARD &  3 &    4.8574 & 1127.6726 &   275.7620 &  231.6963 \\\\\n",
      "2  &  Non-negative &  3 &   40.4421 & 1677.8139 &   318.3954 &  223.1981 \\\\\n",
      "3  &        Normal &  3 &    3.4360 & 1020.3357 &    10.5009 &   28.1623 \\\\\n",
      "4  &           ARD &  4 &    4.8997 & 1571.0058 &   220.2744 &  272.0015 \\\\\n",
      "5  &  Non-negative &  2 &   33.8124 & 1403.8710 &   234.1758 &  191.7673 \\\\\n",
      "6  &           ARD &  2 &    5.5987 & 1657.3678 &   297.9770 &  320.3376 \\\\\n",
      "7  &        Normal &  2 &    3.9082 & 1127.2144 &    10.0871 &   37.3944 \\\\\n",
      "8  &  Non-negative &  4 &   16.0936 & 1799.1824 &   187.5072 &  157.2839 \\\\\n",
      "9  &           ARD &  5 &    2.9357 & 1231.9205 &   136.8569 &  228.5099 \\\\\n",
      "10 &        Normal &  4 &    2.7750 & 1068.2205 &     8.1337 &   25.1019 \\\\\n",
      "11 &  Non-negative &  5 &   35.9622 & 1523.1771 &   268.6275 &  162.7551 \\\\\n",
      "12 &        Normal &  5 &    3.3734 &  894.0220 &    10.0690 &   20.1732 \\\\\n",
      "13 &        Normal &  1 &   10.4850 & 1007.2907 &    21.6554 &   47.9306 \\\\\n",
      "14 &  Non-negative &  1 &    5.2699 &  771.6474 &    10.6626 &   38.0074 \\\\\n",
      "15 &           ARD &  1 &    4.3445 &  586.1205 &     8.2810 &   25.9324 \\\\\n",
      "\\bottomrule\n",
      "\\end{tabular}\n",
      "\n"
     ]
    }
   ],
   "source": [
    "df_neff['model'] = df_neff['model'].map(\n",
    "    {'ARD_Factorizer':'ARD',\n",
    "     'NonNegativeFactorizer':'Non-negative',\n",
    "     'NormalFactorizer':'Normal'}\n",
    ")\n",
    "print(df_neff.set_index(pd.Series(range(1,16))).to_latex(float_format=lambda x: f'{x:.4f}'))"
   ]
  },
  {
   "cell_type": "code",
   "execution_count": 24,
   "metadata": {},
   "outputs": [
    {
     "data": {
      "image/png": "[encoded data removed]",
      "text/plain": [
       "<Figure size 432x288 with 1 Axes>"
      ]
     },
     "metadata": {
      "needs_background": "light"
     },
     "output_type": "display_data"
    }
   ],
   "source": [
    "data = df_hist.model.iloc[1].stanfit.summary()['summary'][:,-1]\n",
    "xrange = np.linspace(1,1.4,100)\n",
    "plt.hist(data, bins='auto')\n",
    "plt.show()"
   ]
  },
  {
   "cell_type": "code",
   "execution_count": 19,
   "metadata": {},
   "outputs": [],
   "source": [
    "best_params.update(static_kwargs)\n",
    "final_model = type(best_model)(**best_params)"
   ]
  },
  {
   "cell_type": "code",
   "execution_count": 20,
   "metadata": {},
   "outputs": [],
   "source": [
    "df_full, _, _ = utils.get_ml100k_data(DATA_DIR)\n",
    "df_full[['user_id', 'item_id']] -= 1\n",
    "\n",
    "# We are not going to use timestamp, therefore drop it\n",
    "df_full.drop('timestamp', axis='columns', inplace=True)\n",
    "\n",
    "df_full_train, df_full_val = train_test_split(df_full, test_size=0.1, random_state=seed)"
   ]
  },
  {
   "cell_type": "code",
   "execution_count": 21,
   "metadata": {},
   "outputs": [
    {
     "data": {
      "text/plain": [
       "{'model': <StanClasses.ARD_Factorizer at 0x7f46810ea978>,\n",
       " 'params': {'n_components': 3,\n",
       "  'chains': 1,\n",
       "  'iter': 1200,\n",
       "  'control': {'max_treedepth': 15}},\n",
       " 'fit_time': 42998.85808682442,\n",
       " 'train_mae': 0.6843255852898136,\n",
       " 'val_mae': 0.7413976833645597}"
      ]
     },
     "execution_count": 21,
     "metadata": {},
     "output_type": "execute_result"
    }
   ],
   "source": [
    "# final_model.fit(df_full_train)\n",
    "\n",
    "with open('final_dict4.pkl', 'rb') as f:\n",
    "    final_dict = pickle.load(f)\n",
    "    final_model = final_dict['model']\n",
    "    \n",
    "final_dict"
   ]
  },
  {
   "cell_type": "code",
   "execution_count": 22,
   "metadata": {},
   "outputs": [],
   "source": [
    "# final_model_object, fit_time, train_mae, test_mae =\\\n",
    "#     utils.fit_and_evaluate((type(best_model), best_params, df_full_train, df_test))\n",
    "\n",
    "# hist2 = {\n",
    "#     'model':final_model_object,\n",
    "#     'params':best_params,\n",
    "#     'fit_time':fit_time,\n",
    "#     'train_mae':train_mae,\n",
    "#     'test_mae':test_mae\n",
    "# }"
   ]
  },
  {
   "cell_type": "code",
   "execution_count": 23,
   "metadata": {},
   "outputs": [
    {
     "ename": "ValueError",
     "evalue": "",
     "output_type": "error",
     "traceback": [
      "\u001b[0;31m---------------------------------------------------------------------------\u001b[0m",
      "\u001b[0;31mValueError\u001b[0m                                Traceback (most recent call last)",
      "\u001b[0;32m<ipython-input-23-e4c8e09828d5>\u001b[0m in \u001b[0;36m<module>\u001b[0;34m\u001b[0m\n\u001b[0;32m----> 1\u001b[0;31m \u001b[0;32mraise\u001b[0m \u001b[0mValueError\u001b[0m\u001b[0;34m\u001b[0m\u001b[0;34m\u001b[0m\u001b[0m\n\u001b[0m",
      "\u001b[0;31mValueError\u001b[0m: "
     ]
    }
   ],
   "source": [
    "raise ValueError"
   ]
  },
  {
   "cell_type": "code",
   "execution_count": null,
   "metadata": {},
   "outputs": [],
   "source": [
    "def ci_df(model, df):\n",
    "    fig, ax = plt.subplots(figsize=(8,4))\n",
    "    lbs, ubs = model.ci(thin=4, n_samples=500, row_inds=df.user_id, col_inds=df.item_id, \n",
    "                        plot=True, zorder=0, ax=ax, \n",
    "             c='firebrick', ecolor='goldenrod', label='Predictive mean')\n",
    "    ax.scatter(range(len(df)), df.rating, c='yellow',zorder=1, label='True value')\n",
    "    ax.legend()\n",
    "    ax.set_ylabel('Rating')\n",
    "    ax.set_yticks(np.arange(-2,9))\n",
    "    ax.set_xticks([])\n",
    "    ax.grid()\n",
    "    ax.set_ylim([-2,8])\n",
    "    plt.suptitle(f'Credible intervals for {len(df)} elements')\n",
    "    plt.tight_layout(rect=[0, 0.05, 1, 0.95])\n",
    "    plt.savefig('credibles.pdf')\n",
    "    plt.show()\n",
    "    return lbs, ubs\n",
    "\n",
    "lbs, ubs = ci_df(final_model, df_full_val.sample(n=1500, random_state=seed).sort_values('rating'))"
   ]
  },
  {
   "cell_type": "code",
   "execution_count": null,
   "metadata": {},
   "outputs": [],
   "source": [
    "(ubs-lbs).mean()"
   ]
  },
  {
   "cell_type": "markdown",
   "metadata": {},
   "source": [
    "<br>\n",
    "<br>\n",
    "<br>\n",
    "<br>\n",
    "<br>\n",
    "<br>\n",
    "<br>\n",
    "<br>\n",
    "<br>\n",
    "<br>\n",
    "<br>\n",
    "<br>\n",
    "<br>\n",
    "<br>\n",
    "<br>\n",
    "<br>\n",
    "<br>\n",
    "<br>\n",
    "<br>\n",
    "<br>\n",
    "<br>\n",
    "<br>\n",
    "<br>\n",
    "<br>\n",
    "<br>\n",
    "<br>\n",
    "<br>\n",
    "<br>\n",
    "<br>\n",
    "<br>"
   ]
  },
  {
   "cell_type": "code",
   "execution_count": null,
   "metadata": {},
   "outputs": [],
   "source": [
    "class A:\n",
    "    def x(self):\n",
    "        return 2\n",
    "\n",
    "a = A()\n",
    "a.x = 420\n",
    "a.x"
   ]
  },
  {
   "cell_type": "code",
   "execution_count": null,
   "metadata": {},
   "outputs": [],
   "source": [
    "raise ValueErrordd"
   ]
  },
  {
   "cell_type": "code",
   "execution_count": null,
   "metadata": {},
   "outputs": [],
   "source": [
    "A = np.arange(4*3*2).reshape((4,3,2))\n",
    "print(A)\n",
    "print(A[:,[0,1],[0,1]])\n",
    "print(np.array([a[[0,1],[0,1]] for a in A]))"
   ]
  },
  {
   "cell_type": "markdown",
   "metadata": {},
   "source": [
    "# Test Place"
   ]
  },
  {
   "cell_type": "code",
   "execution_count": null,
   "metadata": {},
   "outputs": [],
   "source": [
    "xrange = np.linspace(-0.5,4,1000)\n",
    "a = 1\n",
    "b = 1*a\n",
    "y = stats.gamma.pdf(xrange, a=a, scale=1/b)\n",
    "print(a, b)\n",
    "fig, ax = plt.subplots(figsize=(5,3))\n",
    "ax.plot(xrange, y, label=f'scale={a}, shape={1/b}', c='firebrick')\n",
    "ax.legend()\n",
    "ax.grid()\n",
    "plt.title(r'Prior for $\\beta$')\n",
    "plt.ylabel('Density')\n",
    "plt.tight_layout()\n",
    "# plt.savefig('images/betaprior.pdf')\n",
    "plt.show()"
   ]
  },
  {
   "cell_type": "code",
   "execution_count": null,
   "metadata": {},
   "outputs": [],
   "source": [
    "final_model.mae(df_full_val)"
   ]
  },
  {
   "cell_type": "code",
   "execution_count": null,
   "metadata": {},
   "outputs": [],
   "source": [
    "xrange = np.linspace(-0.5,6,1000)\n",
    "a = 2\n",
    "b = 0.5*a\n",
    "y = stats.gamma.pdf(xrange, a=a, scale=1/b)\n",
    "print(a, b)\n",
    "fig, ax = plt.subplots(figsize=(5,3))\n",
    "ax.plot(xrange, y, label=f'scale={a}, shape={b}', c='firebrick')\n",
    "ax.legend()\n",
    "ax.grid()\n",
    "plt.title(r'Prior for $U_{ij}$ and $V_{ij}$')\n",
    "plt.ylabel('Density')\n",
    "plt.tight_layout()\n",
    "# plt.savefig('images/nmfprior.pdf')\n",
    "plt.show()"
   ]
  },
  {
   "cell_type": "code",
   "execution_count": null,
   "metadata": {},
   "outputs": [],
   "source": [
    "xrange = np.linspace(-0.5,20,1000)\n",
    "a = 1\n",
    "b = 0.08*a\n",
    "y = stats.gamma.pdf(xrange, a=a, scale=1/b)\n",
    "print(a, b)\n",
    "fig, ax = plt.subplots(figsize=(5,3))\n",
    "ax.plot(xrange, y, label=f'scale={a}, shape={b}', c='firebrick')\n",
    "ax.legend()\n",
    "ax.grid()\n",
    "plt.title(r'Prior for $\\alpha$ values')\n",
    "plt.ylabel('Density')\n",
    "plt.tight_layout()\n",
    "# plt.savefig('images/alphaprior.pdf')\n",
    "plt.show()"
   ]
  },
  {
   "cell_type": "code",
   "execution_count": null,
   "metadata": {},
   "outputs": [],
   "source": [
    "del final_dict\n",
    "del final_model"
   ]
  },
  {
   "cell_type": "code",
   "execution_count": null,
   "metadata": {},
   "outputs": [],
   "source": [
    "xrange = np.linspace(-0.5,4,1000)\n",
    "\n",
    "a = 1\n",
    "b = 1*a\n",
    "y = stats.gamma.pdf(xrange, a=a, scale=1/b)\n",
    "print(a, b)\n",
    "plt.plot(xrange, y)\n",
    "plt.show()\n",
    "\n",
    "a = 2\n",
    "b = 1*a\n",
    "y = stats.gamma.pdf(xrange, a=a, scale=1/b)\n",
    "print(a, b)\n",
    "plt.plot(xrange, y)\n",
    "plt.show()\n",
    "\n",
    "a = 1\n",
    "b = 0.08*a\n",
    "y = stats.gamma.pdf(xrange, a=a, scale=1/b)\n",
    "print(a, b)\n",
    "plt.plot(xrange, y)\n",
    "# plt.axvline(((a-1)/b/(a-1)))\n",
    "plt.show()"
   ]
  }
 ],
 "metadata": {
  "kernelspec": {
   "display_name": "Python 3",
   "language": "python",
   "name": "python3"
  },
  "language_info": {
   "codemirror_mode": {
    "name": "ipython",
    "version": 3
   },
   "file_extension": ".py",
   "mimetype": "text/x-python",
   "name": "python",
   "nbconvert_exporter": "python",
   "pygments_lexer": "ipython3",
   "version": "3.6.9"
  }
 },
 "nbformat": 4,
 "nbformat_minor": 4
}
